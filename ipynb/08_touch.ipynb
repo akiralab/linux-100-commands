{
 "cells": [
  {
   "cell_type": "markdown",
   "metadata": {},
   "source": [
    "## touch コマンド\n",
    "- タイムスタンプを変更するコマンド"
   ]
  },
  {
   "cell_type": "markdown",
   "metadata": {},
   "source": [
    "---\n",
    "`touch` *FILENAME*： *FILENAME*を作成する"
   ]
  },
  {
   "cell_type": "code",
   "execution_count": 2,
   "metadata": {},
   "outputs": [
    {
     "name": "stdout",
     "output_type": "stream",
     "text": [
      "total 0\n",
      "drwxr-xr-x   4 akirakawai  staff  128 Dec  4 05:52 \u001b[34m.\u001b[m\u001b[m\n",
      "drwxr-xr-x  16 akirakawai  staff  512 Dec  4 05:52 \u001b[34m..\u001b[m\u001b[m\n",
      "-rwxr-xr-x   1 akirakawai  staff    0 Nov 21 19:05 \u001b[31msample.txt\u001b[m\u001b[m\n",
      "-rw-r--r--   1 akirakawai  staff    0 Dec  4 05:52 test.txt\n"
     ]
    }
   ],
   "source": [
    "!touch src/test.txt\n",
    "!ls -la src/"
   ]
  },
  {
   "cell_type": "markdown",
   "metadata": {},
   "source": [
    "---\n",
    "`touch -m` *FILENAME*： *FILENAME*の内容を変更した時刻を変更する"
   ]
  },
  {
   "cell_type": "code",
   "execution_count": 4,
   "metadata": {},
   "outputs": [
    {
     "name": "stdout",
     "output_type": "stream",
     "text": [
      "total 0\n",
      "drwxr-xr-x   4 akirakawai  staff  128 Dec  4 05:52 \u001b[34m.\u001b[m\u001b[m\n",
      "drwxr-xr-x  16 akirakawai  staff  512 Dec  4 05:57 \u001b[34m..\u001b[m\u001b[m\n",
      "-rwxr-xr-x   1 akirakawai  staff    0 Nov 21 19:05 \u001b[31msample.txt\u001b[m\u001b[m\n",
      "-rw-r--r--   1 akirakawai  staff    0 Dec  4 05:57 test.txt\n"
     ]
    }
   ],
   "source": [
    "!touch -m src/test.txt\n",
    "!ls -la src/"
   ]
  },
  {
   "cell_type": "markdown",
   "metadata": {},
   "source": [
    "---\n",
    "`commands -m` *FILENAME*： *FILENAME*の内容を変更した時刻を変更する"
   ]
  },
  {
   "cell_type": "code",
   "execution_count": 5,
   "metadata": {},
   "outputs": [
    {
     "name": "stdout",
     "output_type": "stream",
     "text": [
      "/bin/sh: xx: command not found\n"
     ]
    }
   ],
   "source": [
    "!xx -l"
   ]
  },
  {
   "cell_type": "markdown",
   "metadata": {},
   "source": []
  },
  {
   "cell_type": "code",
   "execution_count": null,
   "metadata": {},
   "outputs": [],
   "source": []
  },
  {
   "cell_type": "code",
   "execution_count": null,
   "metadata": {},
   "outputs": [],
   "source": []
  },
  {
   "cell_type": "code",
   "execution_count": null,
   "metadata": {},
   "outputs": [],
   "source": []
  }
 ],
 "metadata": {
  "kernelspec": {
   "display_name": "Python 3",
   "language": "python",
   "name": "python3"
  },
  "language_info": {
   "codemirror_mode": {
    "name": "ipython",
    "version": 3
   },
   "file_extension": ".py",
   "mimetype": "text/x-python",
   "name": "python",
   "nbconvert_exporter": "python",
   "pygments_lexer": "ipython3",
   "version": "3.7.6"
  }
 },
 "nbformat": 4,
 "nbformat_minor": 4
}
