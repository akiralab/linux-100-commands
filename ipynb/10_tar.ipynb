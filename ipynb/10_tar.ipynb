{
 "cells": [
  {
   "cell_type": "markdown",
   "metadata": {},
   "source": [
    "## tar コマンド\n",
    "- tape archiveから名称がきている\n",
    "- 複数ファイルを一つにまとめたアーカイブファイルを作成/展開するコマンド"
   ]
  },
  {
   "cell_type": "markdown",
   "metadata": {},
   "source": [
    "---\n",
    "`tar -c  FILENAME.tar FILENAME` ： *FILENAME*を圧縮する(-cはcreateの意)"
   ]
  },
  {
   "cell_type": "code",
   "execution_count": 4,
   "metadata": {},
   "outputs": [
    {
     "name": "stdout",
     "output_type": "stream",
     "text": [
      "total 8\n",
      "drwxr-xr-x   5 akirakawai  staff   160 Dec  6 23:20 \u001b[34m.\u001b[m\u001b[m\n",
      "drwxr-xr-x  20 akirakawai  staff   640 Dec  6 23:20 \u001b[34m..\u001b[m\u001b[m\n",
      "-rwxr-xr-x   1 akirakawai  staff     0 Nov 21 19:05 \u001b[31msample.txt\u001b[m\u001b[m\n",
      "-rw-r--r--   1 akirakawai  staff  1536 Dec  6 23:20 test.tar\n",
      "-rw-r--r--   1 akirakawai  staff     0 Dec  4 05:57 test.txt\n"
     ]
    }
   ],
   "source": [
    "!tar -cf src/test.tar src/test.txt\n",
    "!ls -la src/"
   ]
  },
  {
   "cell_type": "markdown",
   "metadata": {},
   "source": [
    "---\n",
    "`tar -x  FILENAME.tar FILENAME` ： *FILENAME*を解凍する(-xはextractの意)"
   ]
  },
  {
   "cell_type": "code",
   "execution_count": 5,
   "metadata": {},
   "outputs": [
    {
     "name": "stdout",
     "output_type": "stream",
     "text": [
      "^C\n",
      "total 8\n",
      "drwxr-xr-x   5 akirakawai  staff   160 Dec  6 23:20 \u001b[34m.\u001b[m\u001b[m\n",
      "drwxr-xr-x  19 akirakawai  staff   608 Dec  6 23:21 \u001b[34m..\u001b[m\u001b[m\n",
      "-rwxr-xr-x   1 akirakawai  staff     0 Nov 21 19:05 \u001b[31msample.txt\u001b[m\u001b[m\n",
      "-rw-r--r--   1 akirakawai  staff  1536 Dec  6 23:20 test.tar\n",
      "-rw-r--r--   1 akirakawai  staff     0 Dec  4 05:57 test.txt\n"
     ]
    }
   ],
   "source": [
    "!tar -x src/test.tar\n",
    "!ls -la src/"
   ]
  },
  {
   "cell_type": "markdown",
   "metadata": {},
   "source": [
    "---\n",
    "`commands -options` *FILENAME*： *FILENAME*にxxxする"
   ]
  },
  {
   "cell_type": "code",
   "execution_count": 5,
   "metadata": {},
   "outputs": [
    {
     "name": "stdout",
     "output_type": "stream",
     "text": [
      "/bin/sh: xx: command not found\n"
     ]
    }
   ],
   "source": [
    "!xx -l"
   ]
  },
  {
   "cell_type": "raw",
   "metadata": {},
   "source": [
    "# \n",
    "\n",
    "L"
   ]
  },
  {
   "cell_type": "code",
   "execution_count": null,
   "metadata": {},
   "outputs": [],
   "source": []
  },
  {
   "cell_type": "code",
   "execution_count": null,
   "metadata": {},
   "outputs": [],
   "source": []
  },
  {
   "cell_type": "code",
   "execution_count": null,
   "metadata": {},
   "outputs": [],
   "source": []
  }
 ],
 "metadata": {
  "kernelspec": {
   "display_name": "Python 3",
   "language": "python",
   "name": "python3"
  },
  "language_info": {
   "codemirror_mode": {
    "name": "ipython",
    "version": 3
   },
   "file_extension": ".py",
   "mimetype": "text/x-python",
   "name": "python",
   "nbconvert_exporter": "python",
   "pygments_lexer": "ipython3",
   "version": "3.7.6"
  }
 },
 "nbformat": 4,
 "nbformat_minor": 4
}
