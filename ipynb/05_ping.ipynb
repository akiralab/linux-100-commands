{
 "cells": [
  {
   "cell_type": "markdown",
   "metadata": {},
   "source": [
    "## ping コマンド\n",
    "- Packet Internet or Inter-Network Groperから名称がきている\n",
    "- 接続を確認する"
   ]
  },
  {
   "cell_type": "markdown",
   "metadata": {},
   "source": [
    "---\n",
    "`commands -options` *FILENAME*： *FILENAME*にxxxする"
   ]
  },
  {
   "cell_type": "code",
   "execution_count": 1,
   "metadata": {},
   "outputs": [
    {
     "name": "stdout",
     "output_type": "stream",
     "text": [
      "PING google.com (142.250.196.110): 56 data bytes\n",
      "64 bytes from 142.250.196.110: icmp_seq=0 ttl=116 time=4.137 ms\n",
      "64 bytes from 142.250.196.110: icmp_seq=1 ttl=116 time=5.399 ms\n",
      "64 bytes from 142.250.196.110: icmp_seq=2 ttl=116 time=6.033 ms\n",
      "64 bytes from 142.250.196.110: icmp_seq=3 ttl=116 time=6.024 ms\n",
      "64 bytes from 142.250.196.110: icmp_seq=4 ttl=116 time=10.534 ms\n",
      "64 bytes from 142.250.196.110: icmp_seq=5 ttl=116 time=5.867 ms\n",
      "64 bytes from 142.250.196.110: icmp_seq=6 ttl=116 time=4.459 ms\n",
      "64 bytes from 142.250.196.110: icmp_seq=7 ttl=116 time=11.211 ms\n",
      "64 bytes from 142.250.196.110: icmp_seq=8 ttl=116 time=6.296 ms\n",
      "64 bytes from 142.250.196.110: icmp_seq=9 ttl=116 time=10.975 ms\n",
      "64 bytes from 142.250.196.110: icmp_seq=10 ttl=116 time=6.168 ms\n",
      "64 bytes from 142.250.196.110: icmp_seq=11 ttl=116 time=4.325 ms\n",
      "64 bytes from 142.250.196.110: icmp_seq=12 ttl=116 time=6.379 ms\n",
      "64 bytes from 142.250.196.110: icmp_seq=13 ttl=116 time=5.724 ms\n",
      "64 bytes from 142.250.196.110: icmp_seq=14 ttl=116 time=4.474 ms\n",
      "64 bytes from 142.250.196.110: icmp_seq=15 ttl=116 time=4.716 ms\n",
      "64 bytes from 142.250.196.110: icmp_seq=16 ttl=116 time=6.384 ms\n",
      "64 bytes from 142.250.196.110: icmp_seq=17 ttl=116 time=5.855 ms\n",
      "64 bytes from 142.250.196.110: icmp_seq=18 ttl=116 time=4.278 ms\n",
      "64 bytes from 142.250.196.110: icmp_seq=19 ttl=116 time=5.667 ms\n",
      "64 bytes from 142.250.196.110: icmp_seq=20 ttl=116 time=6.071 ms\n",
      "64 bytes from 142.250.196.110: icmp_seq=21 ttl=116 time=5.952 ms\n",
      "64 bytes from 142.250.196.110: icmp_seq=22 ttl=116 time=10.370 ms\n",
      "64 bytes from 142.250.196.110: icmp_seq=23 ttl=116 time=5.413 ms\n",
      "64 bytes from 142.250.196.110: icmp_seq=24 ttl=116 time=4.918 ms\n",
      "64 bytes from 142.250.196.110: icmp_seq=25 ttl=116 time=6.312 ms\n",
      "64 bytes from 142.250.196.110: icmp_seq=26 ttl=116 time=7.560 ms\n",
      "64 bytes from 142.250.196.110: icmp_seq=27 ttl=116 time=110.391 ms\n",
      "^C\n",
      "\n",
      "--- google.com ping statistics ---\n",
      "28 packets transmitted, 28 packets received, 0.0% packet loss\n",
      "round-trip min/avg/max/stddev = 4.137/10.068/110.391/19.408 ms\n"
     ]
    }
   ],
   "source": [
    "!ping google.com"
   ]
  },
  {
   "cell_type": "markdown",
   "metadata": {},
   "source": [
    "---\n",
    "`commands -options` *FILENAME*： *FILENAME*にxxxする"
   ]
  },
  {
   "cell_type": "code",
   "execution_count": 4,
   "metadata": {},
   "outputs": [
    {
     "name": "stdout",
     "output_type": "stream",
     "text": [
      "/bin/sh: xx: command not found\n"
     ]
    }
   ],
   "source": [
    "!xx -a"
   ]
  },
  {
   "cell_type": "markdown",
   "metadata": {},
   "source": [
    "---\n",
    "`commands -options` *FILENAME*： *FILENAME*にxxxする"
   ]
  },
  {
   "cell_type": "code",
   "execution_count": 5,
   "metadata": {},
   "outputs": [
    {
     "name": "stdout",
     "output_type": "stream",
     "text": [
      "/bin/sh: xx: command not found\n"
     ]
    }
   ],
   "source": [
    "!xx -l"
   ]
  },
  {
   "cell_type": "markdown",
   "metadata": {},
   "source": []
  },
  {
   "cell_type": "code",
   "execution_count": null,
   "metadata": {},
   "outputs": [],
   "source": []
  },
  {
   "cell_type": "code",
   "execution_count": null,
   "metadata": {},
   "outputs": [],
   "source": []
  },
  {
   "cell_type": "code",
   "execution_count": null,
   "metadata": {},
   "outputs": [],
   "source": []
  }
 ],
 "metadata": {
  "kernelspec": {
   "display_name": "Python 3",
   "language": "python",
   "name": "python3"
  },
  "language_info": {
   "codemirror_mode": {
    "name": "ipython",
    "version": 3
   },
   "file_extension": ".py",
   "mimetype": "text/x-python",
   "name": "python",
   "nbconvert_exporter": "python",
   "pygments_lexer": "ipython3",
   "version": "3.8.5"
  }
 },
 "nbformat": 4,
 "nbformat_minor": 4
}
