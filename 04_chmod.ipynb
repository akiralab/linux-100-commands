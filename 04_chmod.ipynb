{
 "cells": [
  {
   "cell_type": "markdown",
   "metadata": {},
   "source": [
    "## chmodコマンド\n",
    "- Change modeから名称がきている\n",
    "- ファイルの権限を変更する\n",
    "- [【 chmod 】コマンド――ファイル／ディレクトリのパーミッション（許可属性）を変更する](https://atmarkit.itmedia.co.jp/ait/articles/1605/23/news020.html)\n",
    "\n",
    "- 権限の確認方法\n",
    "\n",
    "![Image from Gyazo](https://i.gyazo.com/eecb84d0016c2461a937440d81a728c8.png)<br>\n",
    "\n",
    "\n",
    "- 権限付与の数字の意味（755や777などの数字によってどのような違いがあるのか）\n",
    "<br>3つの数字は、{owner, group, others}に与えられた権限のこと\n",
    "<br>\n",
    "<br>r (read) = 4\n",
    "<br>w (write) = 2\n",
    "<br>x (execute) = 1\n",
    "<br>no permissions = 0\n",
    "<br>となっており、それぞれの数字にはこのような意味合いがある\n",
    "<br>0 (0+0+0) – No permission.\n",
    "<br>1 (0+0+1) – Only execute permission.\n",
    "<br>2 (0+2+0) – Only write permission.\n",
    "<br>3 (0+2+1) – Write and execute permissions.\n",
    "<br>4 (4+0+0) – Only read permission.\n",
    "<br>5 (4+0+1) – Read and execute permission.\n",
    "<br>6 (4+2+0) – Read and write permissions.\n",
    "<br>7 (4+2+1) – Read, write, and execute permission."
   ]
  },
  {
   "cell_type": "markdown",
   "metadata": {},
   "source": [
    "---\n",
    "`chmod +x *FILENAME*`：*FILENAME*に実行可能属性を追加する"
   ]
  },
  {
   "cell_type": "code",
   "execution_count": 8,
   "metadata": {},
   "outputs": [
    {
     "name": "stdout",
     "output_type": "stream",
     "text": [
      "-rw-r--r--  1 akirakawai  staff  0 Nov 21 19:05 src/sample.txt\n"
     ]
    }
   ],
   "source": [
    "# まずは現在の参照権限を参照\n",
    "!ls -l src/sample.txt"
   ]
  },
  {
   "cell_type": "code",
   "execution_count": 10,
   "metadata": {},
   "outputs": [],
   "source": [
    "!chmod +x src/sample.txt"
   ]
  },
  {
   "cell_type": "code",
   "execution_count": 11,
   "metadata": {},
   "outputs": [
    {
     "name": "stdout",
     "output_type": "stream",
     "text": [
      "-rwxr-xr-x  1 akirakawai  staff  0 Nov 21 19:05 \u001b[31msrc/sample.txt\u001b[m\u001b[m\n"
     ]
    }
   ],
   "source": [
    "!ls -l src/sample.txt"
   ]
  },
  {
   "cell_type": "code",
   "execution_count": 1,
   "metadata": {},
   "outputs": [
    {
     "name": "stdout",
     "output_type": "stream",
     "text": [
      "usage:\tchmod [-fhv] [-R [-H | -L | -P]] [-a | +a | =a  [i][# [ n]]] mode|entry file ...\n",
      "\tchmod [-fhv] [-R [-H | -L | -P]] [-E | -C | -N | -i | -I] file ...\n"
     ]
    }
   ],
   "source": [
    "# !chmod -v src/sample.txt"
   ]
  },
  {
   "cell_type": "code",
   "execution_count": null,
   "metadata": {},
   "outputs": [],
   "source": []
  }
 ],
 "metadata": {
  "kernelspec": {
   "display_name": "Python 3",
   "language": "python",
   "name": "python3"
  },
  "language_info": {
   "codemirror_mode": {
    "name": "ipython",
    "version": 3
   },
   "file_extension": ".py",
   "mimetype": "text/x-python",
   "name": "python",
   "nbconvert_exporter": "python",
   "pygments_lexer": "ipython3",
   "version": "3.8.5"
  }
 },
 "nbformat": 4,
 "nbformat_minor": 4
}
