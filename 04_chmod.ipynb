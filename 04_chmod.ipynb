{
 "cells": [
  {
   "cell_type": "markdown",
   "metadata": {},
   "source": [
    "## chmodコマンド\n",
    "- Change modeから名称がきている\n",
    "- ファイルの権限を変更する\n",
    "- [【 chmod 】コマンド――ファイル／ディレクトリのパーミッション（許可属性）を変更する](https://atmarkit.itmedia.co.jp/ait/articles/1605/23/news020.html)"
   ]
  },
  {
   "cell_type": "markdown",
   "metadata": {},
   "source": [
    "---\n",
    "`chmod +x *FILENAME*`：*FILENAME*に実行可能属性を追加する"
   ]
  },
  {
   "cell_type": "code",
   "execution_count": 8,
   "metadata": {},
   "outputs": [
    {
     "name": "stdout",
     "output_type": "stream",
     "text": [
      "-rw-r--r--  1 akirakawai  staff  0 Nov 21 19:05 src/sample.txt\n"
     ]
    }
   ],
   "source": [
    "# まずは現在の参照権限を参照\n",
    "!ls -l src/sample.txt"
   ]
  },
  {
   "cell_type": "code",
   "execution_count": 10,
   "metadata": {},
   "outputs": [],
   "source": [
    "!chmod +x src/sample.txt"
   ]
  },
  {
   "cell_type": "code",
   "execution_count": 11,
   "metadata": {},
   "outputs": [
    {
     "name": "stdout",
     "output_type": "stream",
     "text": [
      "-rwxr-xr-x  1 akirakawai  staff  0 Nov 21 19:05 \u001b[31msrc/sample.txt\u001b[m\u001b[m\n"
     ]
    }
   ],
   "source": [
    "!ls -l src/sample.txt"
   ]
  },
  {
   "cell_type": "markdown",
   "metadata": {},
   "source": [
    "---\n",
    "`grep -l *PATTERN* *FILENAME*`：*FILENAME*から*PATTERN*を検索する, <span style='background:blue'>検索結果にファイル名のみ表示する</span>"
   ]
  },
  {
   "cell_type": "code",
   "execution_count": 12,
   "metadata": {},
   "outputs": [
    {
     "name": "stdout",
     "output_type": "stream",
     "text": [
      "usage:\tchmod [-fhv] [-R [-H | -L | -P]] [-a | +a | =a  [i][# [ n]]] mode|entry file ...\n",
      "\tchmod [-fhv] [-R [-H | -L | -P]] [-E | -C | -N | -i | -I] file ...\n"
     ]
    }
   ],
   "source": [
    "!chmod -v"
   ]
  },
  {
   "cell_type": "markdown",
   "metadata": {},
   "source": [
    "`grep -c *PATTERN* *FILENAME*`：*FILENAME*から*PATTERN*を検索する, <span style='background:blue'>検索結果に一致した箇所から前後に指定した行数表示する</span>"
   ]
  },
  {
   "cell_type": "code",
   "execution_count": 42,
   "metadata": {},
   "outputs": [],
   "source": [
    "!grep -c linux README.md"
   ]
  },
  {
   "cell_type": "markdown",
   "metadata": {},
   "source": [
    "`grep -c *PATTERN* *FILENAME*`：*FILENAME*から*PATTERN*を検索する, <span style='background:blue'>検索結果に行番号を表示する</span>"
   ]
  },
  {
   "cell_type": "code",
   "execution_count": 46,
   "metadata": {},
   "outputs": [
    {
     "name": "stdout",
     "output_type": "stream",
     "text": [
      "1:# linux-100-commands\n",
      "3:linux コマンド 100 本ノック!!\n",
      "20:  https://www.dummies.com/computers/operating-systems/linux/linux-for-dummies-cheat-sheet/\n"
     ]
    }
   ],
   "source": [
    "!grep -n linux README.md"
   ]
  },
  {
   "cell_type": "code",
   "execution_count": 42,
   "metadata": {},
   "outputs": [
    {
     "name": "stdout",
     "output_type": "stream",
     "text": [
      "3\n"
     ]
    }
   ],
   "source": []
  },
  {
   "cell_type": "markdown",
   "metadata": {},
   "source": [
    "`grep -e *PATTERN* *FILENAME*`：*FILENAME*から*PATTERN*を検索する, <span style='background:blue'>一致処理に指定した正規表現を使う</span>"
   ]
  },
  {
   "cell_type": "code",
   "execution_count": 43,
   "metadata": {},
   "outputs": [
    {
     "name": "stdout",
     "output_type": "stream",
     "text": [
      "# linux-100-commands\n",
      "linux コマンド 100 本ノック!!\n",
      "  https://www.dummies.com/computers/operating-systems/linux/linux-for-dummies-cheat-sheet/\n"
     ]
    }
   ],
   "source": [
    "!grep -e linux README.md"
   ]
  },
  {
   "cell_type": "markdown",
   "metadata": {},
   "source": [
    "`grep -v *PATTERN* *FILENAME*`：*FILENAME*から*PATTERN*を検索する, <span style='background:blue'>一致しないものを検索する</span>"
   ]
  },
  {
   "cell_type": "code",
   "execution_count": 44,
   "metadata": {},
   "outputs": [
    {
     "name": "stdout",
     "output_type": "stream",
     "text": [
      "\n",
      "\n",
      "## ルール\n",
      "\n",
      "- 基本コマンドも１から勉強し直す（option など）\n",
      "- .ipynb 形式が後で見返してみてわかりやすい\n",
      "\n",
      "## 100 のしたいこと\n",
      "\n",
      "- 順次追加予定\n",
      "\n",
      "## 参考\n",
      "\n",
      "- Linux command line for you and me Documentation\n",
      "  https://buildmedia.readthedocs.org/media/pdf/lym/latest/lym.pdf\n",
      "\n",
      "- Linux For Dummies Cheat Sheet\n",
      "\n",
      "- Shell Scripting Tutorial\n",
      "  https://www.shellscript.sh/\n",
      "\n",
      "- 初心者向けシェルスクリプトの基本コマンドの紹介\n",
      "  https://qiita.com/zayarwinttun/items/0dae4cb66d8f4bd2a337\n"
     ]
    }
   ],
   "source": [
    "!grep -v linux README.md"
   ]
  },
  {
   "cell_type": "code",
   "execution_count": null,
   "metadata": {},
   "outputs": [],
   "source": []
  },
  {
   "cell_type": "markdown",
   "metadata": {},
   "source": [
    "`grep -r *PATTERN* *FILENAME*`：*FILENAME*から*PATTERN*を検索する, `<span style='background:blue'>ディレクトリ内も検索対象とする</span>`"
   ]
  },
  {
   "cell_type": "code",
   "execution_count": 53,
   "metadata": {},
   "outputs": [
    {
     "name": "stdout",
     "output_type": "stream",
     "text": [
      "grep: src/*: No such file or directory\n"
     ]
    }
   ],
   "source": [
    "!grep -r linux src/*"
   ]
  },
  {
   "cell_type": "code",
   "execution_count": null,
   "metadata": {},
   "outputs": [],
   "source": []
  }
 ],
 "metadata": {
  "kernelspec": {
   "display_name": "Python 3",
   "language": "python",
   "name": "python3"
  },
  "language_info": {
   "codemirror_mode": {
    "name": "ipython",
    "version": 3
   },
   "file_extension": ".py",
   "mimetype": "text/x-python",
   "name": "python",
   "nbconvert_exporter": "python",
   "pygments_lexer": "ipython3",
   "version": "3.7.6"
  }
 },
 "nbformat": 4,
 "nbformat_minor": 4
}
