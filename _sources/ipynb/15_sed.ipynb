{
 "cells": [
  {
   "cell_type": "markdown",
   "metadata": {},
   "source": [
    "## sed コマンド\n",
    "- {Stream EDitor}からきている\n",
    "- 文字を置換するコマンド\n",
    "- パイプとリダイレクトを活用するのが一般的\n",
    "- ファイル名を省略した場合は、標準入力からのデータを処理する"
   ]
  },
  {
   "cell_type": "markdown",
   "metadata": {},
   "source": [
    "---\n",
    "`sed \"s/置換前の文字列/置換後の文字列/\"` 入力に対して、置換前の文字列を置換後の文字列に置換する"
   ]
  },
  {
   "cell_type": "code",
   "execution_count": 9,
   "metadata": {},
   "outputs": [
    {
     "name": "stdout",
     "output_type": "stream",
     "text": [
      "result.txt \u001b[31msample.txt\u001b[m\u001b[m test.tar   test.txt\n"
     ]
    }
   ],
   "source": [
    "!ls  src/"
   ]
  },
  {
   "cell_type": "code",
   "execution_count": 10,
   "metadata": {},
   "outputs": [
    {
     "name": "stdout",
     "output_type": "stream",
     "text": [
      "result.py\n",
      "sample.py\n",
      "test.tar\n",
      "test.py\n"
     ]
    }
   ],
   "source": [
    "!ls src/ | sed \"s/.txt/.py/\""
   ]
  },
  {
   "cell_type": "markdown",
   "metadata": {},
   "source": [
    "`sed -e` もしくは `sed -r` : 拡張正規表現（練習中）"
   ]
  },
  {
   "cell_type": "code",
   "execution_count": 14,
   "metadata": {},
   "outputs": [
    {
     "name": "stdout",
     "output_type": "stream",
     "text": [
      "クロロエチルメチルエーテル\n"
     ]
    }
   ],
   "source": [
    "!echo クロロメチルエチルエーテル | sed -E 's/(メ..)(...)/\\2\\1/'"
   ]
  },
  {
   "cell_type": "code",
   "execution_count": null,
   "metadata": {},
   "outputs": [],
   "source": []
  }
 ],
 "metadata": {
  "kernelspec": {
   "display_name": "Python 3",
   "language": "python",
   "name": "python3"
  },
  "language_info": {
   "codemirror_mode": {
    "name": "ipython",
    "version": 3
   },
   "file_extension": ".py",
   "mimetype": "text/x-python",
   "name": "python",
   "nbconvert_exporter": "python",
   "pygments_lexer": "ipython3",
   "version": "3.8.9"
  }
 },
 "nbformat": 4,
 "nbformat_minor": 4
}
