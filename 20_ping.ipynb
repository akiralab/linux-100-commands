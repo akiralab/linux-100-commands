{
 "cells": [
  {
   "cell_type": "markdown",
   "metadata": {},
   "source": [
    "## ping コマンド\n",
    "- Packet Internet Groperから名称がきている\n",
    "- Networkの接続テストとして用いられる"
   ]
  },
  {
   "cell_type": "markdown",
   "metadata": {},
   "source": [
    "---\n",
    "`ping DESTINATION` ： *DESTINATION*に接続する\n",
    "\n",
    "- optionを何も指定しない場合、ずっと繰り返す\n",
    "- `-c 回数`のオプションを加えることで、指定回数繰り返す\n",
    "- ドメインをIPアドレスに変換後、ICMP()"
   ]
  },
  {
   "cell_type": "code",
   "execution_count": 3,
   "metadata": {},
   "outputs": [
    {
     "name": "stdout",
     "output_type": "stream",
     "text": [
      "PING google.com (142.251.42.206): 56 data bytes\n",
      "64 bytes from 142.251.42.206: icmp_seq=0 ttl=58 time=5.211 ms\n",
      "64 bytes from 142.251.42.206: icmp_seq=1 ttl=58 time=4.602 ms\n",
      "64 bytes from 142.251.42.206: icmp_seq=2 ttl=58 time=88.852 ms\n",
      "64 bytes from 142.251.42.206: icmp_seq=3 ttl=58 time=48.284 ms\n",
      "64 bytes from 142.251.42.206: icmp_seq=4 ttl=58 time=123.793 ms\n",
      "\n",
      "--- google.com ping statistics ---\n",
      "5 packets transmitted, 5 packets received, 0.0% packet loss\n",
      "round-trip min/avg/max/stddev = 4.602/54.148/123.793/46.774 ms\n"
     ]
    }
   ],
   "source": [
    "!ping -c 5 google.com"
   ]
  },
  {
   "cell_type": "markdown",
   "metadata": {},
   "source": [
    "---\n",
    "`ping -p PATTERN`： 送信するパケット内容を指定することも可能"
   ]
  },
  {
   "cell_type": "code",
   "execution_count": 5,
   "metadata": {},
   "outputs": [
    {
     "name": "stdout",
     "output_type": "stream",
     "text": [
      "PATTERN: 0xff\n",
      "PING google.com (142.250.207.14): 56 data bytes\n",
      "64 bytes from 142.250.207.14: icmp_seq=0 ttl=116 time=5.318 ms\n",
      "64 bytes from 142.250.207.14: icmp_seq=1 ttl=116 time=5.188 ms\n",
      "64 bytes from 142.250.207.14: icmp_seq=2 ttl=116 time=4.872 ms\n",
      "64 bytes from 142.250.207.14: icmp_seq=3 ttl=116 time=5.724 ms\n",
      "64 bytes from 142.250.207.14: icmp_seq=4 ttl=116 time=4.681 ms\n",
      "\n",
      "--- google.com ping statistics ---\n",
      "5 packets transmitted, 5 packets received, 0.0% packet loss\n",
      "round-trip min/avg/max/stddev = 4.681/5.157/5.724/0.362 ms\n"
     ]
    }
   ],
   "source": [
    "!ping -c 5 -p ff google.com"
   ]
  },
  {
   "cell_type": "code",
   "execution_count": null,
   "metadata": {},
   "outputs": [],
   "source": []
  },
  {
   "cell_type": "code",
   "execution_count": null,
   "metadata": {},
   "outputs": [],
   "source": []
  }
 ],
 "metadata": {
  "kernelspec": {
   "display_name": "Python 3",
   "language": "python",
   "name": "python3"
  },
  "language_info": {
   "codemirror_mode": {
    "name": "ipython",
    "version": 3
   },
   "file_extension": ".py",
   "mimetype": "text/x-python",
   "name": "python",
   "nbconvert_exporter": "python",
   "pygments_lexer": "ipython3",
   "version": "3.8.5"
  }
 },
 "nbformat": 4,
 "nbformat_minor": 4
}
