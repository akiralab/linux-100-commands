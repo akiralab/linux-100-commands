{
 "cells": [
  {
   "cell_type": "markdown",
   "metadata": {},
   "source": [
    "## du コマンド\n",
    "- {名称の由来}から名称がきている\n",
    "- {コマンド内容}"
   ]
  },
  {
   "cell_type": "markdown",
   "metadata": {},
   "source": [
    "---\n",
    "`du -s DIRNAME` *DIRNAME*： 指定したディレクトリの合計のみを表示する"
   ]
  },
  {
   "cell_type": "code",
   "execution_count": 1,
   "metadata": {},
   "outputs": [
    {
     "name": "stdout",
     "output_type": "stream",
     "text": [
      "8\tsrc/\n"
     ]
    }
   ],
   "source": [
    "!du -s src/"
   ]
  },
  {
   "cell_type": "markdown",
   "metadata": {},
   "source": [
    "---\n",
    "`du -hc DIRNAME`： ディレクトリ全体の合計も表示する"
   ]
  },
  {
   "cell_type": "code",
   "execution_count": 2,
   "metadata": {},
   "outputs": [
    {
     "name": "stdout",
     "output_type": "stream",
     "text": [
      "  0B\tsrc//lm1/.ipynb_checkpoints\n",
      "  0B\tsrc//lm1\n",
      "  0B\tsrc//.ipynb_checkpoints\n",
      "  0B\tsrc//lm2/.ipynb_checkpoints\n",
      "  0B\tsrc//lm2\n",
      "4.0K\tsrc/\n",
      "4.0K\ttotal\n"
     ]
    }
   ],
   "source": [
    "!du -ch src/"
   ]
  },
  {
   "cell_type": "code",
   "execution_count": 6,
   "metadata": {},
   "outputs": [
    {
     "name": "stdout",
     "output_type": "stream",
     "text": [
      "  0B\tsrc/lm1/.ipynb_checkpoints\n",
      "  0B\tsrc/lm1\n",
      "  0B\tsrc/lm2/.ipynb_checkpoints\n",
      "  0B\tsrc/lm2\n",
      "  0B\tsrc/sample.txt\n",
      "4.0K\tsrc/test.tar\n",
      "  0B\tsrc/test.txt\n",
      "4.0K\ttotal\n"
     ]
    }
   ],
   "source": [
    "!du -ch src/*"
   ]
  },
  {
   "cell_type": "code",
   "execution_count": null,
   "metadata": {},
   "outputs": [],
   "source": []
  }
 ],
 "metadata": {
  "kernelspec": {
   "display_name": "Python 3",
   "language": "python",
   "name": "python3"
  },
  "language_info": {
   "codemirror_mode": {
    "name": "ipython",
    "version": 3
   },
   "file_extension": ".py",
   "mimetype": "text/x-python",
   "name": "python",
   "nbconvert_exporter": "python",
   "pygments_lexer": "ipython3",
   "version": "3.8.5"
  }
 },
 "nbformat": 4,
 "nbformat_minor": 4
}
