{
 "cells": [
  {
   "cell_type": "markdown",
   "metadata": {},
   "source": [
    "## ls コマンド\n",
    "- list segmentsから名称がきている\n",
    "- fileやディレクトリの情報を表示する"
   ]
  },
  {
   "cell_type": "markdown",
   "metadata": {},
   "source": [
    "---\n",
    "`ls`：ファイル一覧表示"
   ]
  },
  {
   "cell_type": "code",
   "execution_count": 5,
   "metadata": {},
   "outputs": [
    {
     "name": "stdout",
     "output_type": "stream",
     "text": [
      "00_template_command.ipynb 02_mv.ipynb               README.md\n",
      "01_ls.ipynb               04_grep.ipynb\n"
     ]
    }
   ],
   "source": [
    "!ls"
   ]
  },
  {
   "cell_type": "markdown",
   "metadata": {},
   "source": [
    "---\n",
    "`ls -a`：全てのディレクトリ表示"
   ]
  },
  {
   "cell_type": "code",
   "execution_count": 7,
   "metadata": {},
   "outputs": [
    {
     "name": "stdout",
     "output_type": "stream",
     "text": [
      "\u001b[34m.\u001b[m\u001b[m                         \u001b[34m.ipynb_checkpoints\u001b[m\u001b[m        04_grep.ipynb\n",
      "\u001b[34m..\u001b[m\u001b[m                        00_template_command.ipynb README.md\n",
      "\u001b[34m.git\u001b[m\u001b[m                      01_ls.ipynb\n",
      ".gitignore                02_mv.ipynb\n"
     ]
    }
   ],
   "source": [
    "!ls -a"
   ]
  },
  {
   "cell_type": "markdown",
   "metadata": {},
   "source": [
    "---\n",
    "`ls -l`：詳細の表示"
   ]
  },
  {
   "cell_type": "code",
   "execution_count": 8,
   "metadata": {},
   "outputs": [
    {
     "name": "stdout",
     "output_type": "stream",
     "text": [
      "total 40\n",
      "-rw-r--r--  1 akirakawai  staff  2106 Nov 21 11:08 00_template_command.ipynb\n",
      "-rw-r--r--  1 akirakawai  staff  2810 Nov 21 11:13 01_ls.ipynb\n",
      "-rw-r--r--  1 akirakawai  staff  2062 Nov 21 11:07 02_mv.ipynb\n",
      "-rw-r--r--  1 akirakawai  staff  2673 Nov 21 11:11 04_grep.ipynb\n",
      "-rw-r--r--  1 akirakawai  staff   695 Nov 19 16:52 README.md\n"
     ]
    }
   ],
   "source": [
    "!ls -l"
   ]
  },
  {
   "cell_type": "markdown",
   "metadata": {},
   "source": [
    "---\n",
    "`ls -h`：容量をhuman-readableに表示する"
   ]
  },
  {
   "cell_type": "code",
   "execution_count": 14,
   "metadata": {},
   "outputs": [
    {
     "name": "stdout",
     "output_type": "stream",
     "text": [
      "total 40\n",
      "-rw-r--r--  1 akirakawai  staff   2.1K Nov 21 11:08 00_template_command.ipynb\n",
      "-rw-r--r--  1 akirakawai  staff   3.5K Nov 21 11:15 01_ls.ipynb\n",
      "-rw-r--r--  1 akirakawai  staff   2.0K Nov 21 11:07 02_mv.ipynb\n",
      "-rw-r--r--  1 akirakawai  staff   2.6K Nov 21 11:11 04_grep.ipynb\n",
      "-rw-r--r--  1 akirakawai  staff   695B Nov 19 16:52 README.md\n"
     ]
    }
   ],
   "source": [
    "!ls -lh"
   ]
  },
  {
   "cell_type": "markdown",
   "metadata": {},
   "source": [
    "---\n",
    "`ls -k`：容量をkb基準でに表示する"
   ]
  },
  {
   "cell_type": "code",
   "execution_count": 17,
   "metadata": {},
   "outputs": [
    {
     "name": "stdout",
     "output_type": "stream",
     "text": [
      "total 24\n",
      "-rw-r--r--  1 akirakawai  staff  2106 Nov 21 11:08 00_template_command.ipynb\n",
      "-rw-r--r--  1 akirakawai  staff  4225 Nov 21 11:15 01_ls.ipynb\n",
      "-rw-r--r--  1 akirakawai  staff  2062 Nov 21 11:07 02_mv.ipynb\n",
      "-rw-r--r--  1 akirakawai  staff  2673 Nov 21 11:11 04_grep.ipynb\n",
      "-rw-r--r--  1 akirakawai  staff   695 Nov 19 16:52 README.md\n"
     ]
    }
   ],
   "source": [
    "!ls -lk"
   ]
  },
  {
   "cell_type": "code",
   "execution_count": null,
   "metadata": {},
   "outputs": [],
   "source": []
  }
 ],
 "metadata": {
  "kernelspec": {
   "display_name": "Python 3",
   "language": "python",
   "name": "python3"
  },
  "language_info": {
   "codemirror_mode": {
    "name": "ipython",
    "version": 3
   },
   "file_extension": ".py",
   "mimetype": "text/x-python",
   "name": "python",
   "nbconvert_exporter": "python",
   "pygments_lexer": "ipython3",
   "version": "3.7.6"
  }
 },
 "nbformat": 4,
 "nbformat_minor": 4
}
