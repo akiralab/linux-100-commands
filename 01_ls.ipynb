{
 "cells": [
  {
   "cell_type": "markdown",
   "metadata": {},
   "source": [
    "## ls コマンド\n",
    "- list segmentsから名称がきている\n",
    "- fileやディレクトリの情報を表示する"
   ]
  },
  {
   "cell_type": "markdown",
   "metadata": {},
   "source": [
    "---\n",
    "`ls`：ファイル一覧表示"
   ]
  },
  {
   "cell_type": "code",
   "execution_count": 5,
   "metadata": {},
   "outputs": [
    {
     "name": "stdout",
     "output_type": "stream",
     "text": [
      "00_template_command.ipynb 02_mv.ipynb               README.md\n",
      "01_ls.ipynb               04_grep.ipynb\n"
     ]
    }
   ],
   "source": [
    "!ls"
   ]
  },
  {
   "cell_type": "markdown",
   "metadata": {},
   "source": [
    "---\n",
    "`ls -a`：全てのディレクトリ表示"
   ]
  },
  {
   "cell_type": "code",
   "execution_count": 18,
   "metadata": {},
   "outputs": [
    {
     "name": "stdout",
     "output_type": "stream",
     "text": [
      "\u001b[34m.\u001b[m\u001b[m                         \u001b[34m.ipynb_checkpoints\u001b[m\u001b[m        04_grep.ipynb\n",
      "\u001b[34m..\u001b[m\u001b[m                        00_template_command.ipynb README.md\n",
      "\u001b[34m.git\u001b[m\u001b[m                      01_ls.ipynb               \u001b[34msrc\u001b[m\u001b[m\n",
      ".gitignore                02_mv.ipynb\n"
     ]
    }
   ],
   "source": [
    "!ls -a"
   ]
  },
  {
   "cell_type": "markdown",
   "metadata": {},
   "source": [
    "---\n",
    "`ls -l`：詳細の表示"
   ]
  },
  {
   "cell_type": "code",
   "execution_count": 19,
   "metadata": {},
   "outputs": [
    {
     "name": "stdout",
     "output_type": "stream",
     "text": [
      "total 64\n",
      "-rw-r--r--  1 akirakawai  staff   2106 Nov 21 11:08 00_template_command.ipynb\n",
      "-rw-r--r--  1 akirakawai  staff   4225 Nov 21 18:41 01_ls.ipynb\n",
      "-rw-r--r--  1 akirakawai  staff   2060 Nov 21 11:17 02_mv.ipynb\n",
      "-rw-r--r--  1 akirakawai  staff  10168 Nov 21 18:39 04_grep.ipynb\n",
      "-rw-r--r--  1 akirakawai  staff    695 Nov 19 16:52 README.md\n",
      "drwxr-xr-x  2 akirakawai  staff     64 Nov 21 11:29 \u001b[34msrc\u001b[m\u001b[m\n"
     ]
    }
   ],
   "source": [
    "!ls -l"
   ]
  },
  {
   "cell_type": "markdown",
   "metadata": {},
   "source": [
    "---\n",
    "`ls -h`：容量をhuman-readableに表示する"
   ]
  },
  {
   "cell_type": "code",
   "execution_count": 20,
   "metadata": {},
   "outputs": [
    {
     "name": "stdout",
     "output_type": "stream",
     "text": [
      "total 64\n",
      "-rw-r--r--  1 akirakawai  staff   2.1K Nov 21 11:08 00_template_command.ipynb\n",
      "-rw-r--r--  1 akirakawai  staff   4.1K Nov 21 18:41 01_ls.ipynb\n",
      "-rw-r--r--  1 akirakawai  staff   2.0K Nov 21 11:17 02_mv.ipynb\n",
      "-rw-r--r--  1 akirakawai  staff   9.9K Nov 21 18:39 04_grep.ipynb\n",
      "-rw-r--r--  1 akirakawai  staff   695B Nov 19 16:52 README.md\n",
      "drwxr-xr-x  2 akirakawai  staff    64B Nov 21 11:29 \u001b[34msrc\u001b[m\u001b[m\n"
     ]
    }
   ],
   "source": [
    "!ls -lh"
   ]
  },
  {
   "cell_type": "markdown",
   "metadata": {},
   "source": [
    "---\n",
    "`ls -k`：容量をkb基準でに表示する"
   ]
  },
  {
   "cell_type": "code",
   "execution_count": 21,
   "metadata": {},
   "outputs": [
    {
     "name": "stdout",
     "output_type": "stream",
     "text": [
      "total 32\n",
      "-rw-r--r--  1 akirakawai  staff   2106 Nov 21 11:08 00_template_command.ipynb\n",
      "-rw-r--r--  1 akirakawai  staff   4225 Nov 21 18:41 01_ls.ipynb\n",
      "-rw-r--r--  1 akirakawai  staff   2060 Nov 21 11:17 02_mv.ipynb\n",
      "-rw-r--r--  1 akirakawai  staff  10168 Nov 21 18:39 04_grep.ipynb\n",
      "-rw-r--r--  1 akirakawai  staff    695 Nov 19 16:52 README.md\n",
      "drwxr-xr-x  2 akirakawai  staff     64 Nov 21 11:29 \u001b[34msrc\u001b[m\u001b[m\n"
     ]
    }
   ],
   "source": [
    "!ls -lk"
   ]
  },
  {
   "cell_type": "code",
   "execution_count": null,
   "metadata": {},
   "outputs": [],
   "source": []
  }
 ],
 "metadata": {
  "kernelspec": {
   "display_name": "Python 3",
   "language": "python",
   "name": "python3"
  },
  "language_info": {
   "codemirror_mode": {
    "name": "ipython",
    "version": 3
   },
   "file_extension": ".py",
   "mimetype": "text/x-python",
   "name": "python",
   "nbconvert_exporter": "python",
   "pygments_lexer": "ipython3",
   "version": "3.7.6"
  }
 },
 "nbformat": 4,
 "nbformat_minor": 4
}
