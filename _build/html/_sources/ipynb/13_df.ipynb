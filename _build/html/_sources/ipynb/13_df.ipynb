{
 "cells": [
  {
   "cell_type": "markdown",
   "metadata": {},
   "source": [
    "## df コマンド\n",
    "- {disk free}から名称がきている\n",
    "- ディスクの空き容量を集計して表示するコマンド"
   ]
  },
  {
   "cell_type": "markdown",
   "metadata": {},
   "source": [
    "---\n",
    "`df`： ディスク全体の空き容量を表示する"
   ]
  },
  {
   "cell_type": "code",
   "execution_count": 2,
   "metadata": {},
   "outputs": [
    {
     "name": "stdout",
     "output_type": "stream",
     "text": [
      "Filesystem     512-blocks      Used Available Capacity iused      ifree %iused  Mounted on\n",
      "/dev/disk1s5s1  489358120  47552920 217736144    18%  567557 2446223043    0%   /\n",
      "devfs                 381       381         0   100%     660          0  100%   /dev\n",
      "/dev/disk1s4    489358120   6291536 217736144     3%       3 2446790597    0%   /System/Volumes/VM\n",
      "/dev/disk1s2    489358120    572688 217736144     1%     799 2446789801    0%   /System/Volumes/Preboot\n",
      "/dev/disk1s6    489358120    225264 217736144     1%     465 2446790135    0%   /System/Volumes/Update\n",
      "/dev/disk1s1    489358120 215516352 217736144    50% 1965914 2444824686    0%   /System/Volumes/Data\n",
      "map auto_home           0         0         0   100%       0          0  100%   /System/Volumes/Data/home\n",
      "/dev/disk1s5    489358120  47552920 217736144    18%  553788 2446236812    0%   /System/Volumes/Update/mnt1\n"
     ]
    }
   ],
   "source": [
    "!df "
   ]
  },
  {
   "cell_type": "markdown",
   "metadata": {},
   "source": [
    "---\n",
    "`df` *FILENAME*： *FILENAME*の容量を表示する"
   ]
  },
  {
   "cell_type": "code",
   "execution_count": 14,
   "metadata": {},
   "outputs": [
    {
     "name": "stdout",
     "output_type": "stream",
     "text": [
      "Filesystem       Size   Used  Avail Capacity iused      ifree %iused  Mounted on\n",
      "/dev/disk1s5s1  233Gi   23Gi  104Gi    18%  567557 2446223043    0%   /\n",
      "devfs           191Ki  191Ki    0Bi   100%     660          0  100%   /dev\n",
      "/dev/disk1s4    233Gi  3.0Gi  104Gi     3%       3 2446790597    0%   /System/Volumes/VM\n",
      "/dev/disk1s2    233Gi  280Mi  104Gi     1%     799 2446789801    0%   /System/Volumes/Preboot\n",
      "/dev/disk1s6    233Gi  110Mi  104Gi     1%     465 2446790135    0%   /System/Volumes/Update\n",
      "/dev/disk1s1    233Gi  103Gi  104Gi    50% 1965948 2444824652    0%   /System/Volumes/Data\n",
      "map auto_home     0Bi    0Bi    0Bi   100%       0          0  100%   /System/Volumes/Data/home\n",
      "/dev/disk1s5    233Gi   23Gi  104Gi    18%  553788 2446236812    0%   /System/Volumes/Update/mnt1\n"
     ]
    }
   ],
   "source": [
    "!df -mh"
   ]
  },
  {
   "cell_type": "markdown",
   "metadata": {},
   "source": [
    "---\n",
    "`commands -options` *FILENAME*： *FILENAME*にxxxする"
   ]
  },
  {
   "cell_type": "code",
   "execution_count": 5,
   "metadata": {},
   "outputs": [
    {
     "name": "stdout",
     "output_type": "stream",
     "text": [
      "/bin/sh: xx: command not found\n"
     ]
    }
   ],
   "source": [
    "!xx -l"
   ]
  },
  {
   "cell_type": "raw",
   "metadata": {},
   "source": [
    "# \n",
    "\n",
    "L"
   ]
  },
  {
   "cell_type": "code",
   "execution_count": null,
   "metadata": {},
   "outputs": [],
   "source": []
  },
  {
   "cell_type": "code",
   "execution_count": null,
   "metadata": {},
   "outputs": [],
   "source": []
  },
  {
   "cell_type": "code",
   "execution_count": null,
   "metadata": {},
   "outputs": [],
   "source": []
  }
 ],
 "metadata": {
  "kernelspec": {
   "display_name": "Python 3",
   "language": "python",
   "name": "python3"
  },
  "language_info": {
   "codemirror_mode": {
    "name": "ipython",
    "version": 3
   },
   "file_extension": ".py",
   "mimetype": "text/x-python",
   "name": "python",
   "nbconvert_exporter": "python",
   "pygments_lexer": "ipython3",
   "version": "3.8.5"
  }
 },
 "nbformat": 4,
 "nbformat_minor": 4
}
