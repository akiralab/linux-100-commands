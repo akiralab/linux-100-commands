{
 "cells": [
  {
   "cell_type": "markdown",
   "metadata": {},
   "source": [
    "## ping コマンド\n",
    "- Packet Internet Groperから名称がきている\n",
    "- Networkの接続テストとして用いられる"
   ]
  },
  {
   "cell_type": "markdown",
   "metadata": {},
   "source": [
    "---\n",
    "`ping DESTINATION` ： *DESTINATION*に接続する\n",
    "\n",
    "- optionを何も指定しない場合、ずっと繰り返す\n",
    "- `-c 回数`のオプションを加えることで、指定回数繰り返す\n",
    "- ドメインをIPアドレスに変換後、ICMP()"
   ]
  },
  {
   "cell_type": "code",
   "execution_count": 1,
   "metadata": {},
   "outputs": [
    {
     "name": "stdout",
     "output_type": "stream",
     "text": [
      "PING google.com (142.250.206.238): 56 data bytes\r\n",
      "64 bytes from 142.250.206.238: icmp_seq=0 ttl=55 time=28.907 ms\r\n"
     ]
    },
    {
     "name": "stdout",
     "output_type": "stream",
     "text": [
      "64 bytes from 142.250.206.238: icmp_seq=1 ttl=55 time=17.449 ms\r\n"
     ]
    },
    {
     "name": "stdout",
     "output_type": "stream",
     "text": [
      "64 bytes from 142.250.206.238: icmp_seq=2 ttl=55 time=38.109 ms\r\n"
     ]
    },
    {
     "name": "stdout",
     "output_type": "stream",
     "text": [
      "64 bytes from 142.250.206.238: icmp_seq=3 ttl=55 time=14.832 ms\r\n"
     ]
    },
    {
     "name": "stdout",
     "output_type": "stream",
     "text": [
      "64 bytes from 142.250.206.238: icmp_seq=4 ttl=55 time=22.225 ms\r\n",
      "\r\n",
      "--- google.com ping statistics ---\r\n",
      "5 packets transmitted, 5 packets received, 0.0% packet loss\r\n",
      "round-trip min/avg/max/stddev = 14.832/24.304/38.109/8.400 ms\r\n"
     ]
    }
   ],
   "source": [
    "!ping -c 5 google.com"
   ]
  },
  {
   "cell_type": "markdown",
   "metadata": {},
   "source": [
    "---\n",
    "`ping -p PATTERN`： 送信するパケット内容を指定することも可能"
   ]
  },
  {
   "cell_type": "code",
   "execution_count": 2,
   "metadata": {},
   "outputs": [
    {
     "name": "stdout",
     "output_type": "stream",
     "text": [
      "PATTERN: 0xff\r\n",
      "PING google.com (142.250.206.238): 56 data bytes\r\n",
      "64 bytes from 142.250.206.238: icmp_seq=0 ttl=55 time=33.190 ms\r\n"
     ]
    },
    {
     "name": "stdout",
     "output_type": "stream",
     "text": [
      "64 bytes from 142.250.206.238: icmp_seq=1 ttl=55 time=15.024 ms\r\n"
     ]
    },
    {
     "name": "stdout",
     "output_type": "stream",
     "text": [
      "64 bytes from 142.250.206.238: icmp_seq=2 ttl=55 time=27.608 ms\r\n"
     ]
    },
    {
     "name": "stdout",
     "output_type": "stream",
     "text": [
      "64 bytes from 142.250.206.238: icmp_seq=3 ttl=55 time=24.550 ms\r\n"
     ]
    },
    {
     "name": "stdout",
     "output_type": "stream",
     "text": [
      "64 bytes from 142.250.206.238: icmp_seq=4 ttl=55 time=29.185 ms\r\n",
      "\r\n",
      "--- google.com ping statistics ---\r\n",
      "5 packets transmitted, 5 packets received, 0.0% packet loss\r\n",
      "round-trip min/avg/max/stddev = 15.024/25.911/33.190/6.115 ms\r\n"
     ]
    }
   ],
   "source": [
    "!ping -c 5 -p ff google.com"
   ]
  },
  {
   "cell_type": "code",
   "execution_count": null,
   "metadata": {},
   "outputs": [],
   "source": []
  },
  {
   "cell_type": "code",
   "execution_count": null,
   "metadata": {},
   "outputs": [],
   "source": []
  }
 ],
 "metadata": {
  "kernelspec": {
   "display_name": "Python 3",
   "language": "python",
   "name": "python3"
  },
  "language_info": {
   "codemirror_mode": {
    "name": "ipython",
    "version": 3
   },
   "file_extension": ".py",
   "mimetype": "text/x-python",
   "name": "python",
   "nbconvert_exporter": "python",
   "pygments_lexer": "ipython3",
   "version": "3.8.9"
  }
 },
 "nbformat": 4,
 "nbformat_minor": 4
}