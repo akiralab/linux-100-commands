{
 "cells": [
  {
   "cell_type": "markdown",
   "metadata": {},
   "source": [
    "## ping コマンド\n",
    "- Packet Internet Groperから名称がきている\n",
    "- Networkの接続テストとして用いられる"
   ]
  },
  {
   "cell_type": "markdown",
   "metadata": {},
   "source": [
    "---\n",
    "`ping DESTINATION` ： *DESTINATION*に接続する\n",
    "\n",
    "- optionを何も指定しない場合、ずっと繰り返す\n",
    "- `-c 回数`のオプションを加えることで、指定回数繰り返す\n",
    "- ドメインをIPアドレスに変換後、ICMP()"
   ]
  },
  {
   "cell_type": "code",
   "execution_count": 1,
   "metadata": {},
   "outputs": [
    {
     "name": "stdout",
     "output_type": "stream",
     "text": [
      "PING google.com (142.250.206.238): 56 data bytes\r\n"
     ]
    },
    {
     "name": "stdout",
     "output_type": "stream",
     "text": [
      "64 bytes from 142.250.206.238: icmp_seq=0 ttl=55 time=16.258 ms\r\n"
     ]
    },
    {
     "name": "stdout",
     "output_type": "stream",
     "text": [
      "64 bytes from 142.250.206.238: icmp_seq=1 ttl=55 time=19.666 ms\r\n"
     ]
    },
    {
     "name": "stdout",
     "output_type": "stream",
     "text": [
      "64 bytes from 142.250.206.238: icmp_seq=2 ttl=55 time=17.693 ms\r\n"
     ]
    },
    {
     "name": "stdout",
     "output_type": "stream",
     "text": [
      "64 bytes from 142.250.206.238: icmp_seq=3 ttl=55 time=21.187 ms\r\n"
     ]
    },
    {
     "name": "stdout",
     "output_type": "stream",
     "text": [
      "64 bytes from 142.250.206.238: icmp_seq=4 ttl=55 time=23.133 ms\r\n",
      "\r\n",
      "--- google.com ping statistics ---\r\n",
      "5 packets transmitted, 5 packets received, 0.0% packet loss\r\n",
      "round-trip min/avg/max/stddev = 16.258/19.587/23.133/2.442 ms\r\n"
     ]
    }
   ],
   "source": [
    "!ping -c 5 google.com"
   ]
  },
  {
   "cell_type": "markdown",
   "metadata": {},
   "source": [
    "---\n",
    "`ping -p PATTERN`： 送信するパケット内容を指定することも可能"
   ]
  },
  {
   "cell_type": "code",
   "execution_count": 2,
   "metadata": {},
   "outputs": [
    {
     "name": "stdout",
     "output_type": "stream",
     "text": [
      "PATTERN: 0xff\r\n",
      "PING google.com (142.250.206.238): 56 data bytes\r\n",
      "64 bytes from 142.250.206.238: icmp_seq=0 ttl=55 time=29.361 ms\r\n"
     ]
    },
    {
     "name": "stdout",
     "output_type": "stream",
     "text": [
      "64 bytes from 142.250.206.238: icmp_seq=1 ttl=55 time=18.047 ms\r\n"
     ]
    },
    {
     "name": "stdout",
     "output_type": "stream",
     "text": [
      "64 bytes from 142.250.206.238: icmp_seq=2 ttl=55 time=14.996 ms\r\n"
     ]
    },
    {
     "name": "stdout",
     "output_type": "stream",
     "text": [
      "64 bytes from 142.250.206.238: icmp_seq=3 ttl=55 time=15.199 ms\r\n"
     ]
    },
    {
     "name": "stdout",
     "output_type": "stream",
     "text": [
      "64 bytes from 142.250.206.238: icmp_seq=4 ttl=55 time=27.509 ms\r\n",
      "\r\n",
      "--- google.com ping statistics ---\r\n",
      "5 packets transmitted, 5 packets received, 0.0% packet loss\r\n",
      "round-trip min/avg/max/stddev = 14.996/21.022/29.361/6.176 ms\r\n"
     ]
    }
   ],
   "source": [
    "!ping -c 5 -p ff google.com"
   ]
  },
  {
   "cell_type": "code",
   "execution_count": null,
   "metadata": {},
   "outputs": [],
   "source": []
  },
  {
   "cell_type": "code",
   "execution_count": null,
   "metadata": {},
   "outputs": [],
   "source": []
  }
 ],
 "metadata": {
  "kernelspec": {
   "display_name": "Python 3",
   "language": "python",
   "name": "python3"
  },
  "language_info": {
   "codemirror_mode": {
    "name": "ipython",
    "version": 3
   },
   "file_extension": ".py",
   "mimetype": "text/x-python",
   "name": "python",
   "nbconvert_exporter": "python",
   "pygments_lexer": "ipython3",
   "version": "3.8.9"
  }
 },
 "nbformat": 4,
 "nbformat_minor": 4
}