{
 "cells": [
  {
   "cell_type": "markdown",
   "metadata": {},
   "source": [
    "## ls コマンド\n",
    "- list segmentsから名称がきている\n",
    "- fileやディレクトリの情報を表示する"
   ]
  },
  {
   "cell_type": "markdown",
   "metadata": {},
   "source": [
    "---\n",
    "`ls`：ファイル一覧表示"
   ]
  },
  {
   "cell_type": "code",
   "execution_count": 1,
   "metadata": {},
   "outputs": [
    {
     "name": "stdout",
     "output_type": "stream",
     "text": [
      "00_template.ipynb                    13_df.ipynb\r\n",
      "01_ls.ipynb                          14_sleep.ipynb\r\n",
      "02_cd.ipynb                          15_sed.ipynb\r\n",
      "03_pwd.ipynb                         16_seq.ipynb\r\n",
      "04_chmod.ipynb                       17_xargs.ipynb\r\n",
      "05_ping.ipynb                        18_grep.ipynb\r\n",
      "06_mkdir.ipynb                       19_awk.ipynb\r\n",
      "07_grep.ipynb                        20_ping.ipynb\r\n",
      "08_touch.ipynb                       21_trap.ipynb\r\n",
      "09_nproc.ipynb                       intro.md\r\n",
      "10_tar.ipynb                         \u001b[34mtest\u001b[m\u001b[m\r\n",
      "11_rsync.ipynb                       try-jupyterlab-command-palette.ipynb\r\n",
      "12_du.ipynb\r\n"
     ]
    }
   ],
   "source": [
    "!ls"
   ]
  },
  {
   "cell_type": "markdown",
   "metadata": {},
   "source": [
    "---\n",
    "`ls -a`：全てのディレクトリ表示"
   ]
  },
  {
   "cell_type": "code",
   "execution_count": 2,
   "metadata": {},
   "outputs": [
    {
     "name": "stdout",
     "output_type": "stream",
     "text": [
      "\u001b[34m.\u001b[m\u001b[m                                    11_rsync.ipynb\r\n",
      "\u001b[34m..\u001b[m\u001b[m                                   12_du.ipynb\r\n",
      "\u001b[34m.ipynb_checkpoints\u001b[m\u001b[m                   13_df.ipynb\r\n",
      "00_template.ipynb                    14_sleep.ipynb\r\n",
      "01_ls.ipynb                          15_sed.ipynb\r\n",
      "02_cd.ipynb                          16_seq.ipynb\r\n",
      "03_pwd.ipynb                         17_xargs.ipynb\r\n",
      "04_chmod.ipynb                       18_grep.ipynb\r\n",
      "05_ping.ipynb                        19_awk.ipynb\r\n",
      "06_mkdir.ipynb                       20_ping.ipynb\r\n",
      "07_grep.ipynb                        21_trap.ipynb\r\n",
      "08_touch.ipynb                       intro.md\r\n",
      "09_nproc.ipynb                       \u001b[34mtest\u001b[m\u001b[m\r\n",
      "10_tar.ipynb                         try-jupyterlab-command-palette.ipynb\r\n"
     ]
    }
   ],
   "source": [
    "!ls -a"
   ]
  },
  {
   "cell_type": "markdown",
   "metadata": {},
   "source": [
    "---\n",
    "`ls -l`：詳細の表示"
   ]
  },
  {
   "cell_type": "code",
   "execution_count": 3,
   "metadata": {},
   "outputs": [
    {
     "name": "stdout",
     "output_type": "stream",
     "text": [
      "total 248\r\n",
      "-rw-r--r--  1 akirakawai  staff   2987 Jan 30 23:52 00_template.ipynb\r\n",
      "-rw-r--r--  1 akirakawai  staff   4560 Jan 30 23:49 01_ls.ipynb\r\n",
      "-rw-r--r--  1 akirakawai  staff   1529 Nov 21  2021 02_cd.ipynb\r\n",
      "-rw-r--r--  1 akirakawai  staff   1038 Nov 21  2021 03_pwd.ipynb\r\n",
      "-rw-r--r--  1 akirakawai  staff   3134 Nov 23  2021 04_chmod.ipynb\r\n",
      "-rw-r--r--  1 akirakawai  staff   4676 Nov 23  2021 05_ping.ipynb\r\n",
      "-rw-r--r--  1 akirakawai  staff   2156 Nov 23  2021 06_mkdir.ipynb\r\n",
      "-rw-r--r--  1 akirakawai  staff  10168 Jan 30 22:23 07_grep.ipynb\r\n",
      "-rw-r--r--  1 akirakawai  staff   3026 Dec  4  2021 08_touch.ipynb\r\n",
      "-rw-r--r--  1 akirakawai  staff   2315 Dec  4  2021 09_nproc.ipynb\r\n",
      "-rw-r--r--  1 akirakawai  staff   3345 Dec  6  2021 10_tar.ipynb\r\n",
      "-rw-r--r--  1 akirakawai  staff   1211 Dec 17  2021 11_rsync.ipynb\r\n",
      "-rw-r--r--  1 akirakawai  staff   2265 Jan 21  2022 12_du.ipynb\r\n",
      "-rw-r--r--  1 akirakawai  staff   4128 Jan 31 00:15 13_df.ipynb\r\n",
      "-rw-r--r--  1 akirakawai  staff    968 Jan 31 00:17 14_sleep.ipynb\r\n",
      "-rw-r--r--  1 akirakawai  staff   2268 Jan 31 00:15 15_sed.ipynb\r\n",
      "-rw-r--r--  1 akirakawai  staff   5084 Jan 16  2022 16_seq.ipynb\r\n",
      "-rw-r--r--  1 akirakawai  staff   1084 Jan 16  2022 17_xargs.ipynb\r\n",
      "-rw-r--r--  1 akirakawai  staff   5138 Jan 16  2022 18_grep.ipynb\r\n",
      "-rw-r--r--  1 akirakawai  staff   3025 Jan 30 22:23 19_awk.ipynb\r\n",
      "-rw-r--r--  1 akirakawai  staff   3207 Jan 30 22:23 20_ping.ipynb\r\n",
      "-rw-r--r--  1 akirakawai  staff   1399 Jan 30 22:21 21_trap.ipynb\r\n",
      "-rw-r--r--  1 akirakawai  staff    134 Jan 31 00:27 intro.md\r\n",
      "drwxr-xr-x  2 akirakawai  staff     64 Jan 30 23:47 \u001b[34mtest\u001b[m\u001b[m\r\n",
      "-rw-r--r--  1 akirakawai  staff   1799 Jan 30 23:05 try-jupyterlab-command-palette.ipynb\r\n"
     ]
    }
   ],
   "source": [
    "!ls -l"
   ]
  },
  {
   "cell_type": "markdown",
   "metadata": {},
   "source": [
    "---\n",
    "`ls -h`：容量をhuman-readableに表示する"
   ]
  },
  {
   "cell_type": "code",
   "execution_count": 4,
   "metadata": {},
   "outputs": [
    {
     "name": "stdout",
     "output_type": "stream",
     "text": [
      "total 248\r\n",
      "-rw-r--r--  1 akirakawai  staff   2.9K Jan 30 23:52 00_template.ipynb\r\n",
      "-rw-r--r--  1 akirakawai  staff   4.5K Jan 30 23:49 01_ls.ipynb\r\n",
      "-rw-r--r--  1 akirakawai  staff   1.5K Nov 21  2021 02_cd.ipynb\r\n",
      "-rw-r--r--  1 akirakawai  staff   1.0K Nov 21  2021 03_pwd.ipynb\r\n",
      "-rw-r--r--  1 akirakawai  staff   3.1K Nov 23  2021 04_chmod.ipynb\r\n",
      "-rw-r--r--  1 akirakawai  staff   4.6K Nov 23  2021 05_ping.ipynb\r\n",
      "-rw-r--r--  1 akirakawai  staff   2.1K Nov 23  2021 06_mkdir.ipynb\r\n",
      "-rw-r--r--  1 akirakawai  staff   9.9K Jan 30 22:23 07_grep.ipynb\r\n",
      "-rw-r--r--  1 akirakawai  staff   3.0K Dec  4  2021 08_touch.ipynb\r\n",
      "-rw-r--r--  1 akirakawai  staff   2.3K Dec  4  2021 09_nproc.ipynb\r\n",
      "-rw-r--r--  1 akirakawai  staff   3.3K Dec  6  2021 10_tar.ipynb\r\n",
      "-rw-r--r--  1 akirakawai  staff   1.2K Dec 17  2021 11_rsync.ipynb\r\n",
      "-rw-r--r--  1 akirakawai  staff   2.2K Jan 21  2022 12_du.ipynb\r\n",
      "-rw-r--r--  1 akirakawai  staff   4.0K Jan 31 00:15 13_df.ipynb\r\n",
      "-rw-r--r--  1 akirakawai  staff   968B Jan 31 00:17 14_sleep.ipynb\r\n",
      "-rw-r--r--  1 akirakawai  staff   2.2K Jan 31 00:15 15_sed.ipynb\r\n",
      "-rw-r--r--  1 akirakawai  staff   5.0K Jan 16  2022 16_seq.ipynb\r\n",
      "-rw-r--r--  1 akirakawai  staff   1.1K Jan 16  2022 17_xargs.ipynb\r\n",
      "-rw-r--r--  1 akirakawai  staff   5.0K Jan 16  2022 18_grep.ipynb\r\n",
      "-rw-r--r--  1 akirakawai  staff   3.0K Jan 30 22:23 19_awk.ipynb\r\n",
      "-rw-r--r--  1 akirakawai  staff   3.1K Jan 30 22:23 20_ping.ipynb\r\n",
      "-rw-r--r--  1 akirakawai  staff   1.4K Jan 30 22:21 21_trap.ipynb\r\n",
      "-rw-r--r--  1 akirakawai  staff   134B Jan 31 00:27 intro.md\r\n",
      "drwxr-xr-x  2 akirakawai  staff    64B Jan 30 23:47 \u001b[34mtest\u001b[m\u001b[m\r\n",
      "-rw-r--r--  1 akirakawai  staff   1.8K Jan 30 23:05 try-jupyterlab-command-palette.ipynb\r\n"
     ]
    }
   ],
   "source": [
    "!ls -lh"
   ]
  },
  {
   "cell_type": "markdown",
   "metadata": {},
   "source": [
    "---\n",
    "`ls -k`：容量をkb基準でに表示する"
   ]
  },
  {
   "cell_type": "code",
   "execution_count": 5,
   "metadata": {},
   "outputs": [
    {
     "name": "stdout",
     "output_type": "stream",
     "text": [
      "total 124\r\n",
      "-rw-r--r--  1 akirakawai  staff   2987 Jan 30 23:52 00_template.ipynb\r\n",
      "-rw-r--r--  1 akirakawai  staff   4560 Jan 30 23:49 01_ls.ipynb\r\n",
      "-rw-r--r--  1 akirakawai  staff   1529 Nov 21  2021 02_cd.ipynb\r\n",
      "-rw-r--r--  1 akirakawai  staff   1038 Nov 21  2021 03_pwd.ipynb\r\n",
      "-rw-r--r--  1 akirakawai  staff   3134 Nov 23  2021 04_chmod.ipynb\r\n",
      "-rw-r--r--  1 akirakawai  staff   4676 Nov 23  2021 05_ping.ipynb\r\n",
      "-rw-r--r--  1 akirakawai  staff   2156 Nov 23  2021 06_mkdir.ipynb\r\n",
      "-rw-r--r--  1 akirakawai  staff  10168 Jan 30 22:23 07_grep.ipynb\r\n",
      "-rw-r--r--  1 akirakawai  staff   3026 Dec  4  2021 08_touch.ipynb\r\n",
      "-rw-r--r--  1 akirakawai  staff   2315 Dec  4  2021 09_nproc.ipynb\r\n",
      "-rw-r--r--  1 akirakawai  staff   3345 Dec  6  2021 10_tar.ipynb\r\n",
      "-rw-r--r--  1 akirakawai  staff   1211 Dec 17  2021 11_rsync.ipynb\r\n",
      "-rw-r--r--  1 akirakawai  staff   2265 Jan 21  2022 12_du.ipynb\r\n",
      "-rw-r--r--  1 akirakawai  staff   4128 Jan 31 00:15 13_df.ipynb\r\n",
      "-rw-r--r--  1 akirakawai  staff    968 Jan 31 00:17 14_sleep.ipynb\r\n",
      "-rw-r--r--  1 akirakawai  staff   2268 Jan 31 00:15 15_sed.ipynb\r\n",
      "-rw-r--r--  1 akirakawai  staff   5084 Jan 16  2022 16_seq.ipynb\r\n",
      "-rw-r--r--  1 akirakawai  staff   1084 Jan 16  2022 17_xargs.ipynb\r\n",
      "-rw-r--r--  1 akirakawai  staff   5138 Jan 16  2022 18_grep.ipynb\r\n",
      "-rw-r--r--  1 akirakawai  staff   3025 Jan 30 22:23 19_awk.ipynb\r\n",
      "-rw-r--r--  1 akirakawai  staff   3207 Jan 30 22:23 20_ping.ipynb\r\n",
      "-rw-r--r--  1 akirakawai  staff   1399 Jan 30 22:21 21_trap.ipynb\r\n",
      "-rw-r--r--  1 akirakawai  staff    134 Jan 31 00:27 intro.md\r\n",
      "drwxr-xr-x  2 akirakawai  staff     64 Jan 30 23:47 \u001b[34mtest\u001b[m\u001b[m\r\n",
      "-rw-r--r--  1 akirakawai  staff   1799 Jan 30 23:05 try-jupyterlab-command-palette.ipynb\r\n"
     ]
    }
   ],
   "source": [
    "!ls -lk"
   ]
  },
  {
   "cell_type": "code",
   "execution_count": null,
   "metadata": {},
   "outputs": [],
   "source": []
  }
 ],
 "metadata": {
  "kernelspec": {
   "display_name": "Python 3",
   "language": "python",
   "name": "python3"
  },
  "language_info": {
   "codemirror_mode": {
    "name": "ipython",
    "version": 3
   },
   "file_extension": ".py",
   "mimetype": "text/x-python",
   "name": "python",
   "nbconvert_exporter": "python",
   "pygments_lexer": "ipython3",
   "version": "3.8.9"
  }
 },
 "nbformat": 4,
 "nbformat_minor": 4
}