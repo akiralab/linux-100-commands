{
 "cells": [
  {
   "cell_type": "markdown",
   "metadata": {},
   "source": [
    "## rsync コマンド\n",
    "- remote syncから名称がきている\n",
    "- 別々のlinuxシステムからlocalにファイルをコピーもしくは同期する際に使用するコマンド\n",
    "- 送る専門。"
   ]
  },
  {
   "cell_type": "markdown",
   "metadata": {},
   "source": [
    "---\n",
    "`# rsync options SOURCE DESTINATION` *SOURCE*から*DESTINATION*に同期する"
   ]
  },
  {
   "cell_type": "code",
   "execution_count": 1,
   "metadata": {},
   "outputs": [
    {
     "name": "stdout",
     "output_type": "stream",
     "text": [
      "rsync: link_stat \"/Users/akirakawai/Documents/personal/linux-100-commands/ipynb/src/lm1/sample.txt\" failed: No such file or directory (2)\r\n",
      "rsync: push_dir#3 \"/Users/akirakawai/Documents/personal/linux-100-commands/ipynb/src/lm2\" failed: No such file or directory (2)\r\n",
      "rsync error: errors selecting input/output files, dirs (code 3) at /System/Volumes/Data/SWE/macOS/BuildRoots/37599d3d49/Library/Caches/com.apple.xbs/Sources/rsync/rsync-55/rsync/main.c(581) [receiver=2.6.9]\r\n",
      "rsync: connection unexpectedly closed (8 bytes received so far) [sender]\r\n",
      "rsync error: error in rsync protocol data stream (code 12) at /System/Volumes/Data/SWE/macOS/BuildRoots/37599d3d49/Library/Caches/com.apple.xbs/Sources/rsync/rsync-55/rsync/io.c(453) [sender=2.6.9]\r\n"
     ]
    }
   ],
   "source": [
    "!rsync -ac src/lm1/sample.txt src/lm2/sample.txt"
   ]
  },
  {
   "cell_type": "code",
   "execution_count": null,
   "metadata": {},
   "outputs": [],
   "source": []
  }
 ],
 "metadata": {
  "kernelspec": {
   "display_name": "Python 3",
   "language": "python",
   "name": "python3"
  },
  "language_info": {
   "codemirror_mode": {
    "name": "ipython",
    "version": 3
   },
   "file_extension": ".py",
   "mimetype": "text/x-python",
   "name": "python",
   "nbconvert_exporter": "python",
   "pygments_lexer": "ipython3",
   "version": "3.8.9"
  }
 },
 "nbformat": 4,
 "nbformat_minor": 4
}