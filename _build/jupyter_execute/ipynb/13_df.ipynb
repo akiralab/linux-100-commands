{
 "cells": [
  {
   "cell_type": "markdown",
   "metadata": {},
   "source": [
    "## df コマンド\n",
    "- {disk free}から名称がきている\n",
    "- ディスクの空き容量を集計して表示するコマンド"
   ]
  },
  {
   "cell_type": "markdown",
   "metadata": {},
   "source": [
    "---\n",
    "`df`： ディスク全体の空き容量を表示する"
   ]
  },
  {
   "cell_type": "code",
   "execution_count": 1,
   "metadata": {},
   "outputs": [
    {
     "name": "stdout",
     "output_type": "stream",
     "text": [
      "Filesystem                  512-blocks      Used Available Capacity iused      ifree %iused  Mounted on\r\n",
      "/dev/disk1s5s1               489620264  39704272  37816928    52%  553679 2447547641    0%   /\r\n",
      "devfs                              388       388         0   100%     672          0  100%   /dev\r\n",
      "/dev/disk1s4                 489620264   8389536  37816928    19%       4 2448101316    0%   /System/Volumes/VM\r\n",
      "/dev/disk1s2                 489620264   1106800  37816928     3%    3668 2448097652    0%   /System/Volumes/Preboot\r\n",
      "/dev/disk1s6                 489620264    238864  37816928     1%     493 2448100827    0%   /System/Volumes/Update\r\n",
      "/dev/disk1s1                 489620264 400881880  37816928    92% 5489638 2442611682    0%   /System/Volumes/Data\r\n",
      "map auto_home                        0         0         0   100%       0          0  100%   /System/Volumes/Data/home\r\n",
      "/Applications/Spectacle.app  489620264 415212920  41865664    91% 5881093 2442220227    0%   /private/var/folders/65/gj5942c13f5dkq0czfhvc6p80000gn/T/AppTranslocation/01CC3E68-EDDE-4C9E-A5D0-30E4C635F7EE\r\n",
      "/dev/disk1s5                 489620264  39704272  37816928    52%  553724 2447547596    0%   /System/Volumes/Update/mnt1\r\n"
     ]
    }
   ],
   "source": [
    "!df "
   ]
  },
  {
   "cell_type": "markdown",
   "metadata": {},
   "source": [
    "---\n",
    "`df` *FILENAME*： *FILENAME*の容量を表示する"
   ]
  },
  {
   "cell_type": "code",
   "execution_count": 2,
   "metadata": {},
   "outputs": [
    {
     "name": "stdout",
     "output_type": "stream",
     "text": [
      "Filesystem                    Size   Used  Avail Capacity iused      ifree %iused  Mounted on\r\n",
      "/dev/disk1s5s1               233Gi   19Gi   18Gi    52%  553679 2447547641    0%   /\r\n",
      "devfs                        194Ki  194Ki    0Bi   100%     672          0  100%   /dev\r\n",
      "/dev/disk1s4                 233Gi  4.0Gi   18Gi    19%       4 2448101316    0%   /System/Volumes/VM\r\n",
      "/dev/disk1s2                 233Gi  540Mi   18Gi     3%    3668 2448097652    0%   /System/Volumes/Preboot\r\n",
      "/dev/disk1s6                 233Gi  117Mi   18Gi     1%     493 2448100827    0%   /System/Volumes/Update\r\n",
      "/dev/disk1s1                 233Gi  191Gi   18Gi    92% 5489638 2442611682    0%   /System/Volumes/Data\r\n",
      "map auto_home                  0Bi    0Bi    0Bi   100%       0          0  100%   /System/Volumes/Data/home\r\n",
      "/Applications/Spectacle.app  233Gi  198Gi   20Gi    91% 5881093 2442220227    0%   /private/var/folders/65/gj5942c13f5dkq0czfhvc6p80000gn/T/AppTranslocation/01CC3E68-EDDE-4C9E-A5D0-30E4C635F7EE\r\n",
      "/dev/disk1s5                 233Gi   19Gi   18Gi    52%  553724 2447547596    0%   /System/Volumes/Update/mnt1\r\n"
     ]
    }
   ],
   "source": [
    "!df -mh"
   ]
  },
  {
   "cell_type": "markdown",
   "metadata": {},
   "source": [
    "---\n",
    "`commands -options` *FILENAME*： *FILENAME*にxxxする"
   ]
  },
  {
   "cell_type": "code",
   "execution_count": 3,
   "metadata": {},
   "outputs": [
    {
     "name": "stdout",
     "output_type": "stream",
     "text": [
      "/bin/bash: xx: command not found\r\n"
     ]
    }
   ],
   "source": [
    "!xx -l"
   ]
  },
  {
   "cell_type": "raw",
   "metadata": {},
   "source": [
    "# \n",
    "\n",
    "L"
   ]
  },
  {
   "cell_type": "code",
   "execution_count": null,
   "metadata": {},
   "outputs": [],
   "source": []
  },
  {
   "cell_type": "code",
   "execution_count": null,
   "metadata": {},
   "outputs": [],
   "source": []
  },
  {
   "cell_type": "code",
   "execution_count": null,
   "metadata": {},
   "outputs": [],
   "source": []
  }
 ],
 "metadata": {
  "kernelspec": {
   "display_name": "Python 3",
   "language": "python",
   "name": "python3"
  },
  "language_info": {
   "codemirror_mode": {
    "name": "ipython",
    "version": 3
   },
   "file_extension": ".py",
   "mimetype": "text/x-python",
   "name": "python",
   "nbconvert_exporter": "python",
   "pygments_lexer": "ipython3",
   "version": "3.8.9"
  }
 },
 "nbformat": 4,
 "nbformat_minor": 4
}