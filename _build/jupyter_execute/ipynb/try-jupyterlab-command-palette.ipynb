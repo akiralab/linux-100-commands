{
 "cells": [
  {
   "cell_type": "markdown",
   "metadata": {},
   "source": [
    "# 1. セルタイプをcode・markdown・rawに切り替える方法\n",
    "- yで`code`\n",
    "- mで`markdown`\n",
    "- rで`raw`"
   ]
  },
  {
   "cell_type": "markdown",
   "metadata": {},
   "source": [
    "# 2. セルの選択とセルの編集を切り替える\n",
    "- セルの選択は`control + m`\n",
    "- セルの編集は`Enter`\n"
   ]
  },
  {
   "cell_type": "markdown",
   "metadata": {},
   "source": [
    "# 3. 行数を表示する\n",
    "- 行数の表示は`command + l`"
   ]
  },
  {
   "cell_type": "markdown",
   "metadata": {},
   "source": [
    "# 4. セルを分割もしくは統合する\n",
    "- セルの分割は`control + shift + -`\n",
    "- セルの統合は`shift + m`"
   ]
  },
  {
   "cell_type": "markdown",
   "metadata": {},
   "source": [
    "# 5. セルを削除もしくは挿入する\n",
    "\n",
    "- セルの削除は`d + d (2回押し)`\n",
    "- セルの挿入は、`a` (上側に挿入する) / `b` (下側に挿入する)"
   ]
  },
  {
   "cell_type": "markdown",
   "metadata": {},
   "source": [
    "# 6. Headingを変更する\n",
    "- `1~6`でHeadingを変更できる"
   ]
  },
  {
   "cell_type": "code",
   "execution_count": null,
   "metadata": {},
   "outputs": [],
   "source": []
  }
 ],
 "metadata": {
  "kernelspec": {
   "display_name": "Python 3",
   "language": "python",
   "name": "python3"
  },
  "language_info": {
   "codemirror_mode": {
    "name": "ipython",
    "version": 3
   },
   "file_extension": ".py",
   "mimetype": "text/x-python",
   "name": "python",
   "nbconvert_exporter": "python",
   "pygments_lexer": "ipython3",
   "version": "3.8.9"
  }
 },
 "nbformat": 4,
 "nbformat_minor": 4
}