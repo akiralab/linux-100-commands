{
 "cells": [
  {
   "cell_type": "markdown",
   "metadata": {},
   "source": [
    "## xxxxxx コマンド\n",
    "- {名称の由来}から名称がきている\n",
    "- {コマンド内容}"
   ]
  },
  {
   "cell_type": "markdown",
   "metadata": {},
   "source": [
    "---\n",
    "`commands -options` *FILENAME*： *FILENAME*にxxxする"
   ]
  },
  {
   "cell_type": "code",
   "execution_count": 1,
   "metadata": {},
   "outputs": [
    {
     "name": "stdout",
     "output_type": "stream",
     "text": [
      "/bin/bash: xx: command not found\r\n"
     ]
    }
   ],
   "source": [
    "!xx"
   ]
  },
  {
   "cell_type": "markdown",
   "metadata": {},
   "source": [
    "---\n",
    "`commands -options` *FILENAME*： *FILENAME*にxxxする"
   ]
  },
  {
   "cell_type": "code",
   "execution_count": 2,
   "metadata": {},
   "outputs": [
    {
     "name": "stdout",
     "output_type": "stream",
     "text": [
      "/bin/bash: xx: command not found\r\n"
     ]
    }
   ],
   "source": [
    "!xx -a"
   ]
  },
  {
   "cell_type": "markdown",
   "metadata": {},
   "source": [
    "---\n",
    "`commands -options` *FILENAME*： *FILENAME*にxxxする"
   ]
  },
  {
   "cell_type": "code",
   "execution_count": 3,
   "metadata": {},
   "outputs": [
    {
     "name": "stdout",
     "output_type": "stream",
     "text": [
      "/bin/bash: xx: command not found\r\n"
     ]
    }
   ],
   "source": [
    "!xx -l"
   ]
  },
  {
   "cell_type": "raw",
   "metadata": {},
   "source": []
  },
  {
   "cell_type": "code",
   "execution_count": 4,
   "metadata": {},
   "outputs": [
    {
     "name": "stdout",
     "output_type": "stream",
     "text": [
      "00_template.ipynb\r\n",
      "01_ls.ipynb\r\n",
      "02_cd.ipynb\r\n",
      "03_pwd.ipynb\r\n",
      "04_chmod.ipynb\r\n",
      "05_ping.ipynb\r\n",
      "06_mkdir.ipynb\r\n",
      "07_grep.ipynb\r\n",
      "08_touch.ipynb\r\n",
      "09_nproc.ipynb\r\n",
      "10_tar.ipynb\r\n",
      "11_rsync.ipynb\r\n",
      "12_du.ipynb\r\n",
      "13_df.ipynb\r\n",
      "14_sleep.ipynb\r\n",
      "15_sed.ipynb\r\n",
      "16_seq.ipynb\r\n",
      "17_xargs.ipynb\r\n",
      "18_grep.ipynb\r\n",
      "19_awk.ipynb\r\n",
      "20_ping.ipynb\r\n",
      "21_trap.ipynb\r\n",
      "try-jupyterlab-command-palette.ipynb\r\n"
     ]
    }
   ],
   "source": [
    "!ls | grep .ipynb"
   ]
  },
  {
   "cell_type": "code",
   "execution_count": null,
   "metadata": {},
   "outputs": [],
   "source": []
  },
  {
   "cell_type": "code",
   "execution_count": null,
   "metadata": {},
   "outputs": [],
   "source": []
  }
 ],
 "metadata": {
  "kernelspec": {
   "display_name": "Python 3",
   "language": "python",
   "name": "python3"
  },
  "language_info": {
   "codemirror_mode": {
    "name": "ipython",
    "version": 3
   },
   "file_extension": ".py",
   "mimetype": "text/x-python",
   "name": "python",
   "nbconvert_exporter": "python",
   "pygments_lexer": "ipython3",
   "version": "3.8.9"
  }
 },
 "nbformat": 4,
 "nbformat_minor": 4
}