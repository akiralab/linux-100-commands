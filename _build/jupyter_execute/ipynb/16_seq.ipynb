{
 "cells": [
  {
   "cell_type": "markdown",
   "metadata": {},
   "source": [
    "## seq コマンド\n",
    "- sequenceから名称がきている\n",
    "- 連続番号を出力する\n",
    "- 開始の数と間隔を指定することもできる\n",
    "- 逆順の指定も可能\n",
    "- 書式を指定して出力することもできる"
   ]
  },
  {
   "cell_type": "markdown",
   "metadata": {},
   "source": [
    "---\n",
    "`seq number` 0からnumberまでの連続数字を出力する"
   ]
  },
  {
   "cell_type": "code",
   "execution_count": 1,
   "metadata": {},
   "outputs": [
    {
     "name": "stdout",
     "output_type": "stream",
     "text": [
      "1\r\n",
      "2\r\n",
      "3\r\n",
      "4\r\n",
      "5\r\n",
      "6\r\n",
      "7\r\n",
      "8\r\n",
      "9\r\n",
      "10\r\n"
     ]
    }
   ],
   "source": [
    "!seq 10"
   ]
  },
  {
   "cell_type": "markdown",
   "metadata": {},
   "source": [
    "---\n",
    "`seq -w number` 0からnumberまでの連続数字を<font color=red>ゼロ埋めで</font>出力する"
   ]
  },
  {
   "cell_type": "code",
   "execution_count": 2,
   "metadata": {},
   "outputs": [
    {
     "name": "stdout",
     "output_type": "stream",
     "text": [
      "01\r\n",
      "02\r\n",
      "03\r\n",
      "04\r\n",
      "05\r\n",
      "06\r\n",
      "07\r\n",
      "08\r\n",
      "09\r\n",
      "10\r\n"
     ]
    }
   ],
   "source": [
    "!seq -w 10"
   ]
  },
  {
   "cell_type": "markdown",
   "metadata": {},
   "source": [
    "---\n",
    "`seq start span end` 開始番号と差分、終了番号を指定することができる"
   ]
  },
  {
   "cell_type": "code",
   "execution_count": 3,
   "metadata": {},
   "outputs": [
    {
     "name": "stdout",
     "output_type": "stream",
     "text": [
      "1\r\n",
      "3\r\n"
     ]
    }
   ],
   "source": [
    "!seq 1 2 3"
   ]
  },
  {
   "cell_type": "code",
   "execution_count": 4,
   "metadata": {},
   "outputs": [
    {
     "name": "stdout",
     "output_type": "stream",
     "text": [
      "100\r\n",
      "200\r\n",
      "300\r\n",
      "400\r\n",
      "500\r\n",
      "600\r\n",
      "700\r\n",
      "800\r\n",
      "900\r\n",
      "1000\r\n"
     ]
    }
   ],
   "source": [
    "!seq 100 100 1000"
   ]
  },
  {
   "cell_type": "code",
   "execution_count": 5,
   "metadata": {},
   "outputs": [
    {
     "name": "stdout",
     "output_type": "stream",
     "text": [
      "1\r\n",
      "2\r\n",
      "3\r\n",
      "4\r\n",
      "5\r\n",
      "6\r\n",
      "7\r\n",
      "8\r\n",
      "9\r\n",
      "10\r\n"
     ]
    }
   ],
   "source": [
    "!seq 1 10"
   ]
  },
  {
   "cell_type": "markdown",
   "metadata": {},
   "source": [
    "---\n",
    "`seq -f number` 書式を指定できる\n",
    "- %e : 指数形式、大文字の時は%E\n",
    "- %f : 小数点形式\n",
    "- %g : 一般的な数字の形式"
   ]
  },
  {
   "cell_type": "code",
   "execution_count": 6,
   "metadata": {},
   "outputs": [
    {
     "name": "stdout",
     "output_type": "stream",
     "text": [
      "1.0e+00\r\n",
      "2.0e+00\r\n",
      "3.0e+00\r\n",
      "4.0e+00\r\n",
      "5.0e+00\r\n",
      "6.0e+00\r\n",
      "7.0e+00\r\n",
      "8.0e+00\r\n",
      "9.0e+00\r\n",
      "1.0e+01\r\n"
     ]
    }
   ],
   "source": [
    "!seq -f \"%.1e\" 10"
   ]
  },
  {
   "cell_type": "code",
   "execution_count": 7,
   "metadata": {},
   "outputs": [
    {
     "name": "stdout",
     "output_type": "stream",
     "text": [
      "1.0\r\n",
      "2.0\r\n",
      "3.0\r\n",
      "4.0\r\n",
      "5.0\r\n",
      "6.0\r\n",
      "7.0\r\n",
      "8.0\r\n",
      "9.0\r\n",
      "10.0\r\n"
     ]
    }
   ],
   "source": [
    "!seq -f \"%.1f\" 10"
   ]
  },
  {
   "cell_type": "code",
   "execution_count": 8,
   "metadata": {},
   "outputs": [
    {
     "name": "stdout",
     "output_type": "stream",
     "text": [
      "0001\r\n",
      "0002\r\n",
      "0003\r\n",
      "0004\r\n",
      "0005\r\n",
      "0006\r\n",
      "0007\r\n",
      "0008\r\n",
      "0009\r\n",
      "0010\r\n"
     ]
    }
   ],
   "source": [
    "!seq -f \"%04g\" 10"
   ]
  },
  {
   "cell_type": "code",
   "execution_count": 9,
   "metadata": {},
   "outputs": [
    {
     "name": "stdout",
     "output_type": "stream",
     "text": [
      "IMG_0001.jpg\r\n",
      "IMG_0002.jpg\r\n",
      "IMG_0003.jpg\r\n",
      "IMG_0004.jpg\r\n",
      "IMG_0005.jpg\r\n",
      "IMG_0006.jpg\r\n",
      "IMG_0007.jpg\r\n",
      "IMG_0008.jpg\r\n",
      "IMG_0009.jpg\r\n",
      "IMG_0010.jpg\r\n"
     ]
    }
   ],
   "source": [
    "!seq -f \"IMG_%04g.jpg\" 10"
   ]
  },
  {
   "cell_type": "code",
   "execution_count": null,
   "metadata": {},
   "outputs": [],
   "source": []
  }
 ],
 "metadata": {
  "kernelspec": {
   "display_name": "Python 3",
   "language": "python",
   "name": "python3"
  },
  "language_info": {
   "codemirror_mode": {
    "name": "ipython",
    "version": 3
   },
   "file_extension": ".py",
   "mimetype": "text/x-python",
   "name": "python",
   "nbconvert_exporter": "python",
   "pygments_lexer": "ipython3",
   "version": "3.8.9"
  }
 },
 "nbformat": 4,
 "nbformat_minor": 4
}