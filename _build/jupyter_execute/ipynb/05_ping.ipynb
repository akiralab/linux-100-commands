{
 "cells": [
  {
   "cell_type": "markdown",
   "metadata": {},
   "source": [
    "## ping コマンド\n",
    "- Packet Internet or Inter-Network Groperから名称がきている\n",
    "- 接続を確認する"
   ]
  },
  {
   "cell_type": "markdown",
   "metadata": {},
   "source": [
    "---\n",
    "`commands -options` *FILENAME*： *FILENAME*にxxxする"
   ]
  },
  {
   "cell_type": "code",
   "execution_count": 1,
   "metadata": {},
   "outputs": [
    {
     "name": "stdout",
     "output_type": "stream",
     "text": [
      "PING google.com (142.250.206.238): 56 data bytes\r\n",
      "64 bytes from 142.250.206.238: icmp_seq=0 ttl=55 time=16.319 ms\r\n"
     ]
    },
    {
     "name": "stdout",
     "output_type": "stream",
     "text": [
      "64 bytes from 142.250.206.238: icmp_seq=1 ttl=55 time=24.499 ms\r\n"
     ]
    },
    {
     "name": "stdout",
     "output_type": "stream",
     "text": [
      "64 bytes from 142.250.206.238: icmp_seq=2 ttl=55 time=19.560 ms\r\n"
     ]
    },
    {
     "name": "stdout",
     "output_type": "stream",
     "text": [
      "64 bytes from 142.250.206.238: icmp_seq=3 ttl=55 time=15.863 ms\r\n"
     ]
    },
    {
     "name": "stdout",
     "output_type": "stream",
     "text": [
      "64 bytes from 142.250.206.238: icmp_seq=4 ttl=55 time=14.974 ms\r\n"
     ]
    },
    {
     "name": "stdout",
     "output_type": "stream",
     "text": [
      "64 bytes from 142.250.206.238: icmp_seq=5 ttl=55 time=15.114 ms\r\n"
     ]
    },
    {
     "name": "stdout",
     "output_type": "stream",
     "text": [
      "64 bytes from 142.250.206.238: icmp_seq=6 ttl=55 time=17.862 ms\r\n"
     ]
    },
    {
     "name": "stdout",
     "output_type": "stream",
     "text": [
      "64 bytes from 142.250.206.238: icmp_seq=7 ttl=55 time=17.542 ms\r\n"
     ]
    },
    {
     "name": "stdout",
     "output_type": "stream",
     "text": [
      "64 bytes from 142.250.206.238: icmp_seq=8 ttl=55 time=15.658 ms\r\n"
     ]
    },
    {
     "name": "stdout",
     "output_type": "stream",
     "text": [
      "64 bytes from 142.250.206.238: icmp_seq=9 ttl=55 time=15.584 ms\r\n"
     ]
    },
    {
     "name": "stdout",
     "output_type": "stream",
     "text": [
      "64 bytes from 142.250.206.238: icmp_seq=10 ttl=55 time=15.139 ms\r\n"
     ]
    },
    {
     "name": "stdout",
     "output_type": "stream",
     "text": [
      "64 bytes from 142.250.206.238: icmp_seq=11 ttl=55 time=25.855 ms\r\n"
     ]
    },
    {
     "name": "stdout",
     "output_type": "stream",
     "text": [
      "64 bytes from 142.250.206.238: icmp_seq=12 ttl=55 time=15.343 ms\r\n"
     ]
    },
    {
     "name": "stdout",
     "output_type": "stream",
     "text": [
      "64 bytes from 142.250.206.238: icmp_seq=13 ttl=55 time=14.679 ms\r\n"
     ]
    },
    {
     "name": "stdout",
     "output_type": "stream",
     "text": [
      "64 bytes from 142.250.206.238: icmp_seq=14 ttl=55 time=15.302 ms\r\n"
     ]
    },
    {
     "name": "stdout",
     "output_type": "stream",
     "text": [
      "64 bytes from 142.250.206.238: icmp_seq=15 ttl=55 time=24.984 ms\r\n"
     ]
    },
    {
     "name": "stdout",
     "output_type": "stream",
     "text": [
      "64 bytes from 142.250.206.238: icmp_seq=16 ttl=55 time=16.732 ms\r\n"
     ]
    },
    {
     "name": "stdout",
     "output_type": "stream",
     "text": [
      "64 bytes from 142.250.206.238: icmp_seq=17 ttl=55 time=16.649 ms\r\n"
     ]
    },
    {
     "name": "stdout",
     "output_type": "stream",
     "text": [
      "64 bytes from 142.250.206.238: icmp_seq=18 ttl=55 time=23.266 ms\r\n"
     ]
    },
    {
     "name": "stdout",
     "output_type": "stream",
     "text": [
      "64 bytes from 142.250.206.238: icmp_seq=19 ttl=55 time=16.067 ms\r\n"
     ]
    },
    {
     "name": "stdout",
     "output_type": "stream",
     "text": [
      "64 bytes from 142.250.206.238: icmp_seq=20 ttl=55 time=34.258 ms\r\n"
     ]
    },
    {
     "name": "stdout",
     "output_type": "stream",
     "text": [
      "64 bytes from 142.250.206.238: icmp_seq=21 ttl=55 time=15.187 ms\r\n"
     ]
    },
    {
     "name": "stdout",
     "output_type": "stream",
     "text": [
      "64 bytes from 142.250.206.238: icmp_seq=22 ttl=55 time=18.869 ms\r\n"
     ]
    },
    {
     "name": "stdout",
     "output_type": "stream",
     "text": [
      "64 bytes from 142.250.206.238: icmp_seq=23 ttl=55 time=28.396 ms\r\n"
     ]
    },
    {
     "name": "stdout",
     "output_type": "stream",
     "text": [
      "64 bytes from 142.250.206.238: icmp_seq=24 ttl=55 time=24.012 ms\r\n"
     ]
    },
    {
     "name": "stdout",
     "output_type": "stream",
     "text": [
      "64 bytes from 142.250.206.238: icmp_seq=25 ttl=55 time=26.305 ms\r\n"
     ]
    },
    {
     "name": "stdout",
     "output_type": "stream",
     "text": [
      "64 bytes from 142.250.206.238: icmp_seq=26 ttl=55 time=22.582 ms\r\n"
     ]
    },
    {
     "name": "stdout",
     "output_type": "stream",
     "text": [
      "64 bytes from 142.250.206.238: icmp_seq=27 ttl=55 time=27.592 ms\r\n"
     ]
    },
    {
     "name": "stdout",
     "output_type": "stream",
     "text": [
      "64 bytes from 142.250.206.238: icmp_seq=28 ttl=55 time=14.820 ms\r\n"
     ]
    },
    {
     "name": "stdout",
     "output_type": "stream",
     "text": [
      "64 bytes from 142.250.206.238: icmp_seq=29 ttl=55 time=21.172 ms\r\n"
     ]
    },
    {
     "name": "stdout",
     "output_type": "stream",
     "text": [
      "64 bytes from 142.250.206.238: icmp_seq=30 ttl=55 time=18.981 ms\r\n"
     ]
    },
    {
     "name": "stdout",
     "output_type": "stream",
     "text": [
      "64 bytes from 142.250.206.238: icmp_seq=31 ttl=55 time=21.296 ms\r\n"
     ]
    },
    {
     "name": "stdout",
     "output_type": "stream",
     "text": [
      "64 bytes from 142.250.206.238: icmp_seq=32 ttl=55 time=15.638 ms\r\n"
     ]
    },
    {
     "name": "stdout",
     "output_type": "stream",
     "text": [
      "64 bytes from 142.250.206.238: icmp_seq=33 ttl=55 time=16.162 ms\r\n"
     ]
    },
    {
     "name": "stdout",
     "output_type": "stream",
     "text": [
      "64 bytes from 142.250.206.238: icmp_seq=34 ttl=55 time=21.677 ms\r\n"
     ]
    }
   ],
   "source": [
    "!ping google.com"
   ]
  },
  {
   "cell_type": "markdown",
   "metadata": {},
   "source": [
    "---\n",
    "`commands -options` *FILENAME*： *FILENAME*にxxxする"
   ]
  },
  {
   "cell_type": "code",
   "execution_count": 4,
   "metadata": {},
   "outputs": [
    {
     "name": "stdout",
     "output_type": "stream",
     "text": [
      "/bin/sh: xx: command not found\n"
     ]
    }
   ],
   "source": [
    "!xx -a"
   ]
  },
  {
   "cell_type": "markdown",
   "metadata": {},
   "source": [
    "---\n",
    "`commands -options` *FILENAME*： *FILENAME*にxxxする"
   ]
  },
  {
   "cell_type": "code",
   "execution_count": 5,
   "metadata": {},
   "outputs": [
    {
     "name": "stdout",
     "output_type": "stream",
     "text": [
      "/bin/sh: xx: command not found\n"
     ]
    }
   ],
   "source": [
    "!xx -l"
   ]
  },
  {
   "cell_type": "markdown",
   "metadata": {},
   "source": []
  },
  {
   "cell_type": "code",
   "execution_count": null,
   "metadata": {},
   "outputs": [],
   "source": []
  },
  {
   "cell_type": "code",
   "execution_count": null,
   "metadata": {},
   "outputs": [],
   "source": []
  },
  {
   "cell_type": "code",
   "execution_count": null,
   "metadata": {},
   "outputs": [],
   "source": []
  }
 ],
 "metadata": {
  "kernelspec": {
   "display_name": "Python 3",
   "language": "python",
   "name": "python3"
  },
  "language_info": {
   "codemirror_mode": {
    "name": "ipython",
    "version": 3
   },
   "file_extension": ".py",
   "mimetype": "text/x-python",
   "name": "python",
   "nbconvert_exporter": "python",
   "pygments_lexer": "ipython3",
   "version": "3.8.9"
  }
 },
 "nbformat": 4,
 "nbformat_minor": 4
}