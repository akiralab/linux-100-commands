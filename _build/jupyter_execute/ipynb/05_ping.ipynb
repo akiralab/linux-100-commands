{
 "cells": [
  {
   "cell_type": "markdown",
   "metadata": {},
   "source": [
    "## ping コマンド\n",
    "- Packet Internet or Inter-Network Groperから名称がきている\n",
    "- 接続を確認する"
   ]
  },
  {
   "cell_type": "markdown",
   "metadata": {},
   "source": [
    "---\n",
    "`commands -options` *FILENAME*： *FILENAME*にxxxする"
   ]
  },
  {
   "cell_type": "code",
   "execution_count": 1,
   "metadata": {},
   "outputs": [
    {
     "name": "stdout",
     "output_type": "stream",
     "text": [
      "PING google.com (142.250.206.238): 56 data bytes\r\n"
     ]
    },
    {
     "name": "stdout",
     "output_type": "stream",
     "text": [
      "64 bytes from 142.250.206.238: icmp_seq=0 ttl=55 time=190.948 ms\r\n"
     ]
    },
    {
     "name": "stdout",
     "output_type": "stream",
     "text": [
      "64 bytes from 142.250.206.238: icmp_seq=1 ttl=55 time=171.772 ms\r\n"
     ]
    },
    {
     "name": "stdout",
     "output_type": "stream",
     "text": [
      "64 bytes from 142.250.206.238: icmp_seq=2 ttl=55 time=34.866 ms\r\n"
     ]
    },
    {
     "name": "stdout",
     "output_type": "stream",
     "text": [
      "64 bytes from 142.250.206.238: icmp_seq=3 ttl=55 time=104.260 ms\r\n"
     ]
    },
    {
     "name": "stdout",
     "output_type": "stream",
     "text": [
      "64 bytes from 142.250.206.238: icmp_seq=4 ttl=55 time=40.855 ms\r\n"
     ]
    },
    {
     "name": "stdout",
     "output_type": "stream",
     "text": [
      "64 bytes from 142.250.206.238: icmp_seq=5 ttl=55 time=22.051 ms\r\n"
     ]
    },
    {
     "name": "stdout",
     "output_type": "stream",
     "text": [
      "64 bytes from 142.250.206.238: icmp_seq=6 ttl=55 time=16.908 ms\r\n"
     ]
    },
    {
     "name": "stdout",
     "output_type": "stream",
     "text": [
      "64 bytes from 142.250.206.238: icmp_seq=7 ttl=55 time=23.115 ms\r\n"
     ]
    },
    {
     "name": "stdout",
     "output_type": "stream",
     "text": [
      "64 bytes from 142.250.206.238: icmp_seq=8 ttl=55 time=28.903 ms\r\n"
     ]
    },
    {
     "name": "stdout",
     "output_type": "stream",
     "text": [
      "64 bytes from 142.250.206.238: icmp_seq=9 ttl=55 time=22.268 ms\r\n"
     ]
    },
    {
     "name": "stdout",
     "output_type": "stream",
     "text": [
      "64 bytes from 142.250.206.238: icmp_seq=10 ttl=55 time=21.592 ms\r\n"
     ]
    },
    {
     "name": "stdout",
     "output_type": "stream",
     "text": [
      "64 bytes from 142.250.206.238: icmp_seq=11 ttl=55 time=26.157 ms\r\n"
     ]
    },
    {
     "name": "stdout",
     "output_type": "stream",
     "text": [
      "64 bytes from 142.250.206.238: icmp_seq=12 ttl=55 time=17.184 ms\r\n"
     ]
    },
    {
     "name": "stdout",
     "output_type": "stream",
     "text": [
      "64 bytes from 142.250.206.238: icmp_seq=13 ttl=55 time=19.770 ms\r\n"
     ]
    },
    {
     "name": "stdout",
     "output_type": "stream",
     "text": [
      "64 bytes from 142.250.206.238: icmp_seq=14 ttl=55 time=16.692 ms\r\n"
     ]
    },
    {
     "name": "stdout",
     "output_type": "stream",
     "text": [
      "64 bytes from 142.250.206.238: icmp_seq=15 ttl=55 time=17.941 ms\r\n"
     ]
    },
    {
     "name": "stdout",
     "output_type": "stream",
     "text": [
      "64 bytes from 142.250.206.238: icmp_seq=16 ttl=55 time=16.924 ms\r\n"
     ]
    },
    {
     "name": "stdout",
     "output_type": "stream",
     "text": [
      "64 bytes from 142.250.206.238: icmp_seq=17 ttl=55 time=30.877 ms\r\n"
     ]
    },
    {
     "name": "stdout",
     "output_type": "stream",
     "text": [
      "64 bytes from 142.250.206.238: icmp_seq=18 ttl=55 time=18.075 ms\r\n"
     ]
    },
    {
     "name": "stdout",
     "output_type": "stream",
     "text": [
      "64 bytes from 142.250.206.238: icmp_seq=19 ttl=55 time=23.862 ms\r\n"
     ]
    },
    {
     "name": "stdout",
     "output_type": "stream",
     "text": [
      "64 bytes from 142.250.206.238: icmp_seq=20 ttl=55 time=18.301 ms\r\n"
     ]
    },
    {
     "name": "stdout",
     "output_type": "stream",
     "text": [
      "64 bytes from 142.250.206.238: icmp_seq=21 ttl=55 time=35.160 ms\r\n"
     ]
    },
    {
     "name": "stdout",
     "output_type": "stream",
     "text": [
      "64 bytes from 142.250.206.238: icmp_seq=22 ttl=55 time=23.064 ms\r\n"
     ]
    },
    {
     "name": "stdout",
     "output_type": "stream",
     "text": [
      "64 bytes from 142.250.206.238: icmp_seq=23 ttl=55 time=108.049 ms\r\n"
     ]
    },
    {
     "name": "stdout",
     "output_type": "stream",
     "text": [
      "64 bytes from 142.250.206.238: icmp_seq=24 ttl=55 time=45.766 ms\r\n"
     ]
    },
    {
     "name": "stdout",
     "output_type": "stream",
     "text": [
      "64 bytes from 142.250.206.238: icmp_seq=25 ttl=55 time=14.868 ms\r\n"
     ]
    },
    {
     "name": "stdout",
     "output_type": "stream",
     "text": [
      "64 bytes from 142.250.206.238: icmp_seq=26 ttl=55 time=32.214 ms\r\n"
     ]
    },
    {
     "name": "stdout",
     "output_type": "stream",
     "text": [
      "64 bytes from 142.250.206.238: icmp_seq=27 ttl=55 time=18.683 ms\r\n"
     ]
    },
    {
     "name": "stdout",
     "output_type": "stream",
     "text": [
      "64 bytes from 142.250.206.238: icmp_seq=28 ttl=55 time=27.819 ms\r\n"
     ]
    },
    {
     "name": "stdout",
     "output_type": "stream",
     "text": [
      "64 bytes from 142.250.206.238: icmp_seq=29 ttl=55 time=47.616 ms\r\n"
     ]
    },
    {
     "name": "stdout",
     "output_type": "stream",
     "text": [
      "64 bytes from 142.250.206.238: icmp_seq=30 ttl=55 time=15.088 ms\r\n"
     ]
    },
    {
     "name": "stdout",
     "output_type": "stream",
     "text": [
      "64 bytes from 142.250.206.238: icmp_seq=31 ttl=55 time=15.413 ms\r\n"
     ]
    },
    {
     "name": "stdout",
     "output_type": "stream",
     "text": [
      "64 bytes from 142.250.206.238: icmp_seq=32 ttl=55 time=22.591 ms\r\n"
     ]
    },
    {
     "name": "stdout",
     "output_type": "stream",
     "text": [
      "64 bytes from 142.250.206.238: icmp_seq=33 ttl=55 time=26.942 ms\r\n"
     ]
    },
    {
     "name": "stdout",
     "output_type": "stream",
     "text": [
      "64 bytes from 142.250.206.238: icmp_seq=34 ttl=55 time=16.741 ms\r\n"
     ]
    }
   ],
   "source": [
    "!ping google.com"
   ]
  },
  {
   "cell_type": "markdown",
   "metadata": {},
   "source": [
    "---\n",
    "`commands -options` *FILENAME*： *FILENAME*にxxxする"
   ]
  },
  {
   "cell_type": "code",
   "execution_count": 4,
   "metadata": {},
   "outputs": [
    {
     "name": "stdout",
     "output_type": "stream",
     "text": [
      "/bin/sh: xx: command not found\n"
     ]
    }
   ],
   "source": [
    "!xx -a"
   ]
  },
  {
   "cell_type": "markdown",
   "metadata": {},
   "source": [
    "---\n",
    "`commands -options` *FILENAME*： *FILENAME*にxxxする"
   ]
  },
  {
   "cell_type": "code",
   "execution_count": 5,
   "metadata": {},
   "outputs": [
    {
     "name": "stdout",
     "output_type": "stream",
     "text": [
      "/bin/sh: xx: command not found\n"
     ]
    }
   ],
   "source": [
    "!xx -l"
   ]
  },
  {
   "cell_type": "markdown",
   "metadata": {},
   "source": []
  },
  {
   "cell_type": "code",
   "execution_count": null,
   "metadata": {},
   "outputs": [],
   "source": []
  },
  {
   "cell_type": "code",
   "execution_count": null,
   "metadata": {},
   "outputs": [],
   "source": []
  },
  {
   "cell_type": "code",
   "execution_count": null,
   "metadata": {},
   "outputs": [],
   "source": []
  }
 ],
 "metadata": {
  "kernelspec": {
   "display_name": "Python 3",
   "language": "python",
   "name": "python3"
  },
  "language_info": {
   "codemirror_mode": {
    "name": "ipython",
    "version": 3
   },
   "file_extension": ".py",
   "mimetype": "text/x-python",
   "name": "python",
   "nbconvert_exporter": "python",
   "pygments_lexer": "ipython3",
   "version": "3.8.9"
  }
 },
 "nbformat": 4,
 "nbformat_minor": 4
}