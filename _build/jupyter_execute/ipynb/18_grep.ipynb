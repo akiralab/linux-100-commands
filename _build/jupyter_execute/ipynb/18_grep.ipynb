{
 "cells": [
  {
   "cell_type": "markdown",
   "metadata": {},
   "source": [
    "## grep コマンド\n",
    "- {Global regular expression print}から名称がきている\n",
    "- 文字列に対して正規表現を使って検索するコマンド\n",
    "- 正規表現を勉強する必要がある"
   ]
  },
  {
   "cell_type": "markdown",
   "metadata": {},
   "source": [
    "---\n",
    "`grep *検索したい正規表現* ファイル名` : 指定した表現を検索する"
   ]
  },
  {
   "cell_type": "code",
   "execution_count": 1,
   "metadata": {},
   "outputs": [
    {
     "name": "stdout",
     "output_type": "stream",
     "text": [
      "1\r\n",
      "10\r\n"
     ]
    }
   ],
   "source": [
    "!seq 10 | grep 1"
   ]
  },
  {
   "cell_type": "markdown",
   "metadata": {},
   "source": [
    "---\n",
    "### 正規表現の例\n",
    "- '^文字列' : 先頭を検索\n",
    "- '文字列$' : 末尾を検索\n",
    "- '文字列.' : 文字列 + 何か1文字（.の数によって文字数は変わってくる）"
   ]
  },
  {
   "cell_type": "code",
   "execution_count": 2,
   "metadata": {},
   "outputs": [
    {
     "name": "stdout",
     "output_type": "stream",
     "text": [
      "5\r\n",
      "50\r\n",
      "51\r\n",
      "52\r\n",
      "53\r\n",
      "54\r\n",
      "55\r\n",
      "56\r\n",
      "57\r\n",
      "58\r\n",
      "59\r\n"
     ]
    }
   ],
   "source": [
    "!seq 100 | grep \"^5\""
   ]
  },
  {
   "cell_type": "code",
   "execution_count": 3,
   "metadata": {},
   "outputs": [
    {
     "name": "stdout",
     "output_type": "stream",
     "text": [
      "5\r\n",
      "15\r\n",
      "25\r\n",
      "35\r\n",
      "45\r\n",
      "55\r\n",
      "65\r\n",
      "75\r\n",
      "85\r\n",
      "95\r\n"
     ]
    }
   ],
   "source": [
    "!seq 100 | grep \"5$\""
   ]
  },
  {
   "cell_type": "code",
   "execution_count": 4,
   "metadata": {},
   "outputs": [
    {
     "name": "stdout",
     "output_type": "stream",
     "text": [
      "50\r\n",
      "51\r\n",
      "52\r\n",
      "53\r\n",
      "54\r\n",
      "55\r\n",
      "56\r\n",
      "57\r\n",
      "58\r\n",
      "59\r\n"
     ]
    }
   ],
   "source": [
    "!seq 100 | grep \"5.\""
   ]
  },
  {
   "cell_type": "markdown",
   "metadata": {},
   "source": [
    "---\n",
    "### 正規表現の例\n",
    "- '文字列2$' : 末尾に文字列が0個以上連続する\n",
    "- '文字列*$' : 末尾に文字列が0個以上連続する\n",
    "- '[文字列1、文字列2、文字列3]' : []内部のどれかの文字列を検索\n",
    "- '[^文字列1、文字列2、文字列3]' : []内部のどれかの文字列以外を検索"
   ]
  },
  {
   "cell_type": "code",
   "execution_count": 5,
   "metadata": {},
   "outputs": [
    {
     "name": "stdout",
     "output_type": "stream",
     "text": [
      "1\r\n",
      "12\r\n",
      "122\r\n"
     ]
    }
   ],
   "source": [
    "!seq 1000 | grep \"^12*$\""
   ]
  },
  {
   "cell_type": "code",
   "execution_count": 6,
   "metadata": {},
   "outputs": [
    {
     "name": "stdout",
     "output_type": "stream",
     "text": [
      "2 4 6 8 10 12 14 16 18 20 22 24 26 28 30 32 34 36 38 40 42 44 46 48 50 52 54 56 58 60 62 64 66 68 70 72 74 76 78 80 82 84 86 88 90 92 94 96 98 100\r\n"
     ]
    }
   ],
   "source": [
    "!seq 100 | grep \"[02468]$\" | xargs"
   ]
  },
  {
   "cell_type": "code",
   "execution_count": 7,
   "metadata": {},
   "outputs": [
    {
     "name": "stdout",
     "output_type": "stream",
     "text": [
      "1 3 5 7 9 11 13 15 17 19 21 23 25 27 29 31 33 35 37 39 41 43 45 47 49 51 53 55 57 59 61 63 65 67 69 71 73 75 77 79 81 83 85 87 89 91 93 95 97 99\r\n"
     ]
    }
   ],
   "source": [
    "!seq 100 | grep \"[^02468]$\" | xargs"
   ]
  },
  {
   "cell_type": "markdown",
   "metadata": {},
   "source": [
    "---\n",
    "### 正規表現の例\n",
    "- -E をつけることで、拡張正規表現ができる"
   ]
  },
  {
   "cell_type": "code",
   "execution_count": 8,
   "metadata": {},
   "outputs": [
    {
     "name": "stdout",
     "output_type": "stream",
     "text": [
      "11\r\n",
      "22\r\n",
      "33\r\n",
      "44\r\n",
      "55\r\n",
      "66\r\n",
      "77\r\n",
      "88\r\n",
      "99\r\n"
     ]
    }
   ],
   "source": [
    "!seq 100 | grep -E '^(.)\\1$'"
   ]
  },
  {
   "cell_type": "code",
   "execution_count": 9,
   "metadata": {},
   "outputs": [
    {
     "name": "stdout",
     "output_type": "stream",
     "text": [
      "山田\r\n",
      "上田\r\n"
     ]
    }
   ],
   "source": [
    "!echo 中村 山田 田代 上田 | grep -o \"[^ ]田\""
   ]
  },
  {
   "cell_type": "code",
   "execution_count": null,
   "metadata": {},
   "outputs": [],
   "source": []
  }
 ],
 "metadata": {
  "kernelspec": {
   "display_name": "Python 3",
   "language": "python",
   "name": "python3"
  },
  "language_info": {
   "codemirror_mode": {
    "name": "ipython",
    "version": 3
   },
   "file_extension": ".py",
   "mimetype": "text/x-python",
   "name": "python",
   "nbconvert_exporter": "python",
   "pygments_lexer": "ipython3",
   "version": "3.8.9"
  }
 },
 "nbformat": 4,
 "nbformat_minor": 4
}