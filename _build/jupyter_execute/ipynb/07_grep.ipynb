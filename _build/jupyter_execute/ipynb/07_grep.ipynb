{
 "cells": [
  {
   "cell_type": "markdown",
   "metadata": {},
   "source": [
    "## grepコマンド\n",
    "- Global regular expression printから名称がきている\n",
    "- ファイル中の文字列を検索するコマンド\n",
    "- [【 grep 】コマンド――特定の文字を含む行を抽出する](https://atmarkit.itmedia.co.jp/ait/articles/1604/07/news018.html)"
   ]
  },
  {
   "cell_type": "markdown",
   "metadata": {},
   "source": [
    "---\n",
    "`grep *PATTERN* *FILENAME*`：*FILENAME*から*PATTERN*を検索する"
   ]
  },
  {
   "cell_type": "code",
   "execution_count": 1,
   "metadata": {},
   "outputs": [
    {
     "name": "stdout",
     "output_type": "stream",
     "text": [
      "grep: README.md: No such file or directory\r\n"
     ]
    }
   ],
   "source": [
    "!grep linux README.md"
   ]
  },
  {
   "cell_type": "code",
   "execution_count": 2,
   "metadata": {},
   "outputs": [
    {
     "name": "stdout",
     "output_type": "stream",
     "text": [
      "00_template.ipynb:      \"07_grep.ipynb\\n\",\r\n",
      "00_template.ipynb:      \"18_grep.ipynb\\n\",\r\n",
      "00_template.ipynb:    \"!ls | grep .ipynb\"\r\n",
      "01_ls.ipynb:      \"01_ls.ipynb               04_grep.ipynb\\n\"\r\n",
      "01_ls.ipynb:      \"\\u001b[34m.\\u001b[m\\u001b[m                         \\u001b[34m.ipynb_checkpoints\\u001b[m\\u001b[m        04_grep.ipynb\\n\",\r\n",
      "01_ls.ipynb:      \"-rw-r--r--  1 akirakawai  staff  10168 Nov 21 18:39 04_grep.ipynb\\n\",\r\n",
      "01_ls.ipynb:      \"-rw-r--r--  1 akirakawai  staff   9.9K Nov 21 18:39 04_grep.ipynb\\n\",\r\n",
      "01_ls.ipynb:      \"-rw-r--r--  1 akirakawai  staff  10168 Nov 21 18:39 04_grep.ipynb\\n\",\r\n",
      "07_grep.ipynb:    \"## grepコマンド\\n\",\r\n",
      "07_grep.ipynb:    \"- [【 grep 】コマンド――特定の文字を含む行を抽出する](https://atmarkit.itmedia.co.jp/ait/articles/1604/07/news018.html)\"\r\n",
      "07_grep.ipynb:    \"`grep *PATTERN* *FILENAME*`：*FILENAME*から*PATTERN*を検索する\"\r\n",
      "07_grep.ipynb:    \"!grep linux README.md\"\r\n",
      "07_grep.ipynb:      \"01_ls.ipynb:      \\\"01_ls.ipynb               04_grep.ipynb\\\\n\\\"\\n\",\r\n",
      "07_grep.ipynb:      \"01_ls.ipynb:      \\\"\\\\u001b[34m.\\\\u001b[m\\\\u001b[m                         \\\\u001b[34m.ipynb_checkpoints\\\\u001b[m\\\\u001b[m        04_grep.ipynb\\\\n\\\",\\n\",\r\n",
      "07_grep.ipynb:      \"01_ls.ipynb:      \\\"-rw-r--r--  1 akirakawai  staff  2673 Nov 21 11:11 04_grep.ipynb\\\\n\\\",\\n\",\r\n",
      "07_grep.ipynb:      \"01_ls.ipynb:      \\\"-rw-r--r--  1 akirakawai  staff   2.6K Nov 21 11:11 04_grep.ipynb\\\\n\\\",\\n\",\r\n",
      "07_grep.ipynb:      \"01_ls.ipynb:      \\\"-rw-r--r--  1 akirakawai  staff  2673 Nov 21 11:11 04_grep.ipynb\\\\n\\\",\\n\",\r\n",
      "07_grep.ipynb:      \"04_grep.ipynb:    \\\"## grepコマンド\\\\n\\\",\\n\",\r\n",
      "07_grep.ipynb:      \"04_grep.ipynb:    \\\"`grep *PATTERN* *FILENAME*`：*FILENAME*から*PATTERN*を検索する\\\"\\n\",\r\n",
      "07_grep.ipynb:      \"04_grep.ipynb:    \\\"!grep linux README.md\\\"\\n\",\r\n",
      "07_grep.ipynb:      \"04_grep.ipynb:      \\\"01_ls.ipynb:      \\\\\\\"01_ls.ipynb               04_grep.ipynb\\\\\\\\n\\\\\\\"\\\\n\\\",\\n\",\r\n",
      "07_grep.ipynb:      \"04_grep.ipynb:      \\\"01_ls.ipynb:      \\\\\\\"\\\\\\\\u001b[34m.\\\\\\\\u001b[m\\\\\\\\u001b[m                         \\\\\\\\u001b[34m.ipynb_checkpoints\\\\\\\\u001b[m\\\\\\\\u001b[m        04_grep.ipynb\\\\\\\\n\\\\\\\",\\\\n\\\",\\n\",\r\n",
      "07_grep.ipynb:      \"04_grep.ipynb:      \\\"01_ls.ipynb:      \\\\\\\"-rw-r--r--  1 akirakawai  staff  2673 Nov 21 11:11 04_grep.ipynb\\\\\\\\n\\\\\\\",\\\\n\\\",\\n\",\r\n",
      "07_grep.ipynb:      \"04_grep.ipynb:      \\\"01_ls.ipynb:      \\\\\\\"-rw-r--r--  1 akirakawai  staff   2.6K Nov 21 11:11 04_grep.ipynb\\\\\\\\n\\\\\\\",\\\\n\\\",\\n\",\r\n",
      "07_grep.ipynb:      \"04_grep.ipynb:      \\\"01_ls.ipynb:      \\\\\\\"-rw-r--r--  1 akirakawai  staff  2673 Nov 21 11:11 04_grep.ipynb\\\\\\\\n\\\\\\\",\\\\n\\\",\\n\",\r\n",
      "07_grep.ipynb:      \"04_grep.ipynb:      \\\"04_grep.ipynb:    \\\\\\\"## grepコマンド\\\\\\\\n\\\\\\\",\\\\n\\\",\\n\",\r\n",
      "07_grep.ipynb:      \"04_grep.ipynb:      \\\"04_grep.ipynb:    \\\\\\\"`grep *PATTERN* *FILENAME*`：*FILENAME*から*PATTERN*を検索する\\\\\\\"\\\\n\\\",\\n\",\r\n",
      "07_grep.ipynb:      \"04_grep.ipynb:      \\\"04_grep.ipynb:    \\\\\\\"!grep linux README.md\\\\\\\"\\\\n\\\",\\n\",\r\n",
      "07_grep.ipynb:      \"04_grep.ipynb:      \\\"04_grep.ipynb:      \\\\\\\"grep: grep: No such file or directory\\\\\\\\n\\\\\\\"\\\\n\\\",\\n\",\r\n",
      "07_grep.ipynb:      \"04_grep.ipynb:      \\\"04_grep.ipynb:    \\\\\\\"!grep grep *\\\\\\\"\\\\n\\\",\\n\",\r\n",
      "07_grep.ipynb:      \"04_grep.ipynb:      \\\"04_grep.ipynb:    \\\\\\\"`grep -l *PATTERN* *FILENAME*`：*FILENAME*から*PATTERN*を検索する, <span style='background:blue'>検索結果にファイル名のみ表示する</span>\\\\\\\"\\\\n\\\",\\n\",\r\n",
      "07_grep.ipynb:      \"04_grep.ipynb:      \\\"04_grep.ipynb:    \\\\\\\"!grep -l linux README.md\\\\\\\"\\\\n\\\",\\n\",\r\n",
      "07_grep.ipynb:      \"04_grep.ipynb:      \\\"04_grep.ipynb:    \\\\\\\"`grep -c *PATTERN* *FILENAME*`：*FILENAME*から*PATTERN*を検索する, <span style='background:blue'>検索結果に一致した箇所から前後に指定した行数表示する</span>\\\\\\\"\\\\n\\\",\\n\",\r\n",
      "07_grep.ipynb:      \"04_grep.ipynb:      \\\"04_grep.ipynb:    \\\\\\\"!grep -c linux README.md\\\\\\\"\\\\n\\\",\\n\",\r\n",
      "07_grep.ipynb:      \"04_grep.ipynb:      \\\"04_grep.ipynb:    \\\\\\\"`grep -e *PATTERN* *FILENAME*`：*FILENAME*から*PATTERN*を検索する, <span style='background:blue'>一致処理に指定した正規表現を使う</span>\\\\\\\"\\\\n\\\",\\n\",\r\n",
      "07_grep.ipynb:      \"04_grep.ipynb:      \\\"04_grep.ipynb:    \\\\\\\"!grep -e linux README.md\\\\\\\"\\\\n\\\"\\n\",\r\n",
      "07_grep.ipynb:      \"04_grep.ipynb:    \\\"!grep grep *\\\"\\n\",\r\n",
      "07_grep.ipynb:      \"04_grep.ipynb:    \\\"`grep -l *PATTERN* *FILENAME*`：*FILENAME*から*PATTERN*を検索する, <span style='background:blue'>検索結果にファイル名のみ表示する</span>\\\"\\n\",\r\n",
      "07_grep.ipynb:      \"04_grep.ipynb:    \\\"!grep -l linux README.md\\\"\\n\",\r\n",
      "07_grep.ipynb:      \"04_grep.ipynb:    \\\"`grep -c *PATTERN* *FILENAME*`：*FILENAME*から*PATTERN*を検索する, <span style='background:blue'>検索結果に一致した箇所から前後に指定した行数表示する</span>\\\"\\n\",\r\n",
      "07_grep.ipynb:      \"04_grep.ipynb:    \\\"!grep -c linux README.md\\\"\\n\",\r\n",
      "07_grep.ipynb:      \"04_grep.ipynb:    \\\"`grep -e *PATTERN* *FILENAME*`：*FILENAME*から*PATTERN*を検索する, <span style='background:blue'>一致処理に指定した正規表現を使う</span>\\\"\\n\",\r\n",
      "07_grep.ipynb:      \"04_grep.ipynb:    \\\"!grep -e linux README.md\\\"\\n\",\r\n",
      "07_grep.ipynb:      \"04_grep.ipynb:    \\\"`grep -v *PATTERN* *FILENAME*`：*FILENAME*から*PATTERN*を検索する, <span style='background:blue'>一致しないものを検索する</span>\\\"\\n\",\r\n",
      "07_grep.ipynb:      \"04_grep.ipynb:    \\\"!grep -v linux README.md\\\"\\n\"\r\n",
      "07_grep.ipynb:    \"!grep grep *\"\r\n",
      "07_grep.ipynb:    \"`grep -l *PATTERN* *FILENAME*`：*FILENAME*から*PATTERN*を検索する, <span style='background:blue'>検索結果にファイル名のみ表示する</span>\"\r\n",
      "07_grep.ipynb:    \"!grep -l linux README.md\"\r\n",
      "07_grep.ipynb:    \"`grep -c *PATTERN* *FILENAME*`：*FILENAME*から*PATTERN*を検索する, <span style='background:blue'>検索結果に一致した箇所から前後に指定した行数表示する</span>\"\r\n",
      "07_grep.ipynb:    \"!grep -c linux README.md\"\r\n",
      "07_grep.ipynb:    \"`grep -c *PATTERN* *FILENAME*`：*FILENAME*から*PATTERN*を検索する, <span style='background:blue'>検索結果に行番号を表示する</span>\"\r\n",
      "07_grep.ipynb:    \"!grep -n linux README.md\"\r\n",
      "07_grep.ipynb:    \"`grep -e *PATTERN* *FILENAME*`：*FILENAME*から*PATTERN*を検索する, <span style='background:blue'>一致処理に指定した正規表現を使う</span>\"\r\n",
      "07_grep.ipynb:    \"!grep -e linux README.md\"\r\n",
      "07_grep.ipynb:    \"`grep -v *PATTERN* *FILENAME*`：*FILENAME*から*PATTERN*を検索する, <span style='background:blue'>一致しないものを検索する</span>\"\r\n",
      "07_grep.ipynb:    \"!grep -v linux README.md\"\r\n",
      "07_grep.ipynb:    \"`grep -r *PATTERN* *FILENAME*`：*FILENAME*から*PATTERN*を検索する, `<span style='background:blue'>ディレクトリ内も検索対象とする</span>`\"\r\n",
      "07_grep.ipynb:      \"grep: src/*: No such file or directory\\n\"\r\n",
      "07_grep.ipynb:    \"!grep -r linux src/*\"\r\n",
      "18_grep.ipynb:    \"## grep コマンド\\n\",\r\n",
      "18_grep.ipynb:    \"`grep *検索したい正規表現* ファイル名` : 指定した表現を検索する\"\r\n",
      "18_grep.ipynb:    \"!seq 10 | grep 1\"\r\n",
      "18_grep.ipynb:    \"!seq 100 | grep \\\"^5\\\"\"\r\n",
      "18_grep.ipynb:    \"!seq 100 | grep \\\"5$\\\"\"\r\n",
      "18_grep.ipynb:    \"!seq 100 | grep \\\"5.\\\"\"\r\n",
      "18_grep.ipynb:    \"!seq 1000 | grep \\\"^12*$\\\"\"\r\n",
      "18_grep.ipynb:    \"!seq 100 | grep \\\"[02468]$\\\" | xargs\"\r\n",
      "18_grep.ipynb:    \"!seq 100 | grep \\\"[^02468]$\\\" | xargs\"\r\n",
      "18_grep.ipynb:    \"!seq 100 | grep -E '^(.)\\\\1$'\"\r\n",
      "18_grep.ipynb:    \"!echo 中村 山田 田代 上田 | grep -o \\\"[^ ]田\\\"\"\r\n",
      "grep: test: Is a directory\r\n"
     ]
    }
   ],
   "source": [
    "!grep grep *"
   ]
  },
  {
   "cell_type": "markdown",
   "metadata": {},
   "source": [
    "---\n",
    "`grep -l *PATTERN* *FILENAME*`：*FILENAME*から*PATTERN*を検索する, <span style='background:blue'>検索結果にファイル名のみ表示する</span>"
   ]
  },
  {
   "cell_type": "code",
   "execution_count": 3,
   "metadata": {},
   "outputs": [
    {
     "name": "stdout",
     "output_type": "stream",
     "text": [
      "grep: README.md: No such file or directory\r\n"
     ]
    }
   ],
   "source": [
    "!grep -l linux README.md"
   ]
  },
  {
   "cell_type": "markdown",
   "metadata": {},
   "source": [
    "`grep -c *PATTERN* *FILENAME*`：*FILENAME*から*PATTERN*を検索する, <span style='background:blue'>検索結果に一致した箇所から前後に指定した行数表示する</span>"
   ]
  },
  {
   "cell_type": "code",
   "execution_count": 4,
   "metadata": {},
   "outputs": [
    {
     "name": "stdout",
     "output_type": "stream",
     "text": [
      "grep: README.md: No such file or directory\r\n"
     ]
    }
   ],
   "source": [
    "!grep -c linux README.md"
   ]
  },
  {
   "cell_type": "markdown",
   "metadata": {},
   "source": [
    "`grep -c *PATTERN* *FILENAME*`：*FILENAME*から*PATTERN*を検索する, <span style='background:blue'>検索結果に行番号を表示する</span>"
   ]
  },
  {
   "cell_type": "code",
   "execution_count": 5,
   "metadata": {},
   "outputs": [
    {
     "name": "stdout",
     "output_type": "stream",
     "text": [
      "grep: README.md: No such file or directory\r\n"
     ]
    }
   ],
   "source": [
    "!grep -n linux README.md"
   ]
  },
  {
   "cell_type": "code",
   "execution_count": 42,
   "metadata": {},
   "outputs": [
    {
     "name": "stdout",
     "output_type": "stream",
     "text": [
      "3\n"
     ]
    }
   ],
   "source": []
  },
  {
   "cell_type": "markdown",
   "metadata": {},
   "source": [
    "`grep -e *PATTERN* *FILENAME*`：*FILENAME*から*PATTERN*を検索する, <span style='background:blue'>一致処理に指定した正規表現を使う</span>"
   ]
  },
  {
   "cell_type": "code",
   "execution_count": 6,
   "metadata": {},
   "outputs": [
    {
     "name": "stdout",
     "output_type": "stream",
     "text": [
      "grep: README.md: No such file or directory\r\n"
     ]
    }
   ],
   "source": [
    "!grep -e linux README.md"
   ]
  },
  {
   "cell_type": "markdown",
   "metadata": {},
   "source": [
    "`grep -v *PATTERN* *FILENAME*`：*FILENAME*から*PATTERN*を検索する, <span style='background:blue'>一致しないものを検索する</span>"
   ]
  },
  {
   "cell_type": "code",
   "execution_count": 7,
   "metadata": {},
   "outputs": [
    {
     "name": "stdout",
     "output_type": "stream",
     "text": [
      "grep: README.md: No such file or directory\r\n"
     ]
    }
   ],
   "source": [
    "!grep -v linux README.md"
   ]
  },
  {
   "cell_type": "code",
   "execution_count": null,
   "metadata": {},
   "outputs": [],
   "source": []
  },
  {
   "cell_type": "markdown",
   "metadata": {},
   "source": [
    "`grep -r *PATTERN* *FILENAME*`：*FILENAME*から*PATTERN*を検索する, `<span style='background:blue'>ディレクトリ内も検索対象とする</span>`"
   ]
  },
  {
   "cell_type": "code",
   "execution_count": 8,
   "metadata": {},
   "outputs": [
    {
     "name": "stdout",
     "output_type": "stream",
     "text": [
      "grep: src/*: No such file or directory\r\n"
     ]
    }
   ],
   "source": [
    "!grep -r linux src/*"
   ]
  },
  {
   "cell_type": "code",
   "execution_count": null,
   "metadata": {},
   "outputs": [],
   "source": []
  }
 ],
 "metadata": {
  "kernelspec": {
   "display_name": "Python 3",
   "language": "python",
   "name": "python3"
  },
  "language_info": {
   "codemirror_mode": {
    "name": "ipython",
    "version": 3
   },
   "file_extension": ".py",
   "mimetype": "text/x-python",
   "name": "python",
   "nbconvert_exporter": "python",
   "pygments_lexer": "ipython3",
   "version": "3.8.9"
  }
 },
 "nbformat": 4,
 "nbformat_minor": 4
}