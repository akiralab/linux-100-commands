{
 "cells": [
  {
   "cell_type": "markdown",
   "metadata": {},
   "source": [
    "## awk コマンド\n",
    "- から名称がきている\n",
    "- テキストファイルに対して、行ごとに処理を行う\n",
    "- 空白などで区切られたテキストを処理するコマンド\n",
    "- 演算機能もある"
   ]
  },
  {
   "cell_type": "markdown",
   "metadata": {},
   "source": [
    "---\n",
    "### awk '/正規表現/' -> 正規表現"
   ]
  },
  {
   "cell_type": "code",
   "execution_count": 1,
   "metadata": {},
   "outputs": [
    {
     "name": "stdout",
     "output_type": "stream",
     "text": [
      "2\r\n",
      "4\r\n"
     ]
    }
   ],
   "source": [
    "# 偶数のみ表示する\n",
    "!seq 5 | awk '/[02468]/'"
   ]
  },
  {
   "cell_type": "markdown",
   "metadata": {},
   "source": [
    "---\n",
    "### awk '条件{print(printしたい内容)}'"
   ]
  },
  {
   "cell_type": "code",
   "execution_count": 2,
   "metadata": {},
   "outputs": [
    {
     "name": "stdout",
     "output_type": "stream",
     "text": [
      "2は偶数です\r\n",
      "4は偶数です\r\n",
      "6は偶数です\r\n",
      "8は偶数です\r\n",
      "10は偶数です\r\n"
     ]
    }
   ],
   "source": [
    "!seq 10 | awk '$1%2==0{print($1\"は偶数です\")}'"
   ]
  },
  {
   "cell_type": "markdown",
   "metadata": {},
   "source": [
    "---\n",
    "### awk '{print(printしたい内容)}'\n",
    "- print内部で条件を作成することもできる"
   ]
  },
  {
   "cell_type": "code",
   "execution_count": 3,
   "metadata": {},
   "outputs": [
    {
     "name": "stdout",
     "output_type": "stream",
     "text": [
      "awk: syntax error at source line 1\r\n",
      " context is\r\n",
      "\t{print >>>  $1%2== <<< \r\n",
      "awk: illegal statement at source line 1\r\n",
      "awk: illegal statement at source line 1\r\n"
     ]
    }
   ],
   "source": [
    "!seq 10 | awk '{print $1%2==0 ? $1\"は偶数です\": $1\"は奇数です\"}'"
   ]
  },
  {
   "cell_type": "raw",
   "metadata": {},
   "source": [
    "!seq 10 | awk '{print $1%2==0 ? $1\"は偶数です\": $1\"は奇数です\"}'"
   ]
  },
  {
   "cell_type": "code",
   "execution_count": null,
   "metadata": {},
   "outputs": [],
   "source": []
  },
  {
   "cell_type": "code",
   "execution_count": null,
   "metadata": {},
   "outputs": [],
   "source": []
  },
  {
   "cell_type": "code",
   "execution_count": null,
   "metadata": {},
   "outputs": [],
   "source": []
  }
 ],
 "metadata": {
  "kernelspec": {
   "display_name": "Python 3",
   "language": "python",
   "name": "python3"
  },
  "language_info": {
   "codemirror_mode": {
    "name": "ipython",
    "version": 3
   },
   "file_extension": ".py",
   "mimetype": "text/x-python",
   "name": "python",
   "nbconvert_exporter": "python",
   "pygments_lexer": "ipython3",
   "version": "3.8.9"
  }
 },
 "nbformat": 4,
 "nbformat_minor": 4
}