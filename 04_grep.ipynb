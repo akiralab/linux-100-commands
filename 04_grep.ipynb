{
 "cells": [
  {
   "cell_type": "markdown",
   "metadata": {},
   "source": [
    "## grepコマンド\n",
    "- Global regular expression printから名称がきている\n",
    "- ファイル中の文字列を検索するコマンド"
   ]
  },
  {
   "cell_type": "markdown",
   "metadata": {},
   "source": [
    "---\n",
    "`grep *PATTERN* *FILENAME*`：*FILENAME*から*PATTERN*を検索する"
   ]
  },
  {
   "cell_type": "code",
   "execution_count": 39,
   "metadata": {},
   "outputs": [
    {
     "name": "stdout",
     "output_type": "stream",
     "text": [
      "# linux-100-commands\n",
      "linux コマンド 100 本ノック!!\n",
      "  https://www.dummies.com/computers/operating-systems/linux/linux-for-dummies-cheat-sheet/\n"
     ]
    }
   ],
   "source": [
    "!grep linux README.md"
   ]
  },
  {
   "cell_type": "code",
   "execution_count": 40,
   "metadata": {},
   "outputs": [
    {
     "name": "stdout",
     "output_type": "stream",
     "text": [
      "01_ls.ipynb:      \"01_ls.ipynb               04_grep.ipynb\\n\"\n",
      "01_ls.ipynb:      \"\\u001b[34m.\\u001b[m\\u001b[m                         \\u001b[34m.ipynb_checkpoints\\u001b[m\\u001b[m        04_grep.ipynb\\n\",\n",
      "01_ls.ipynb:      \"-rw-r--r--  1 akirakawai  staff  2673 Nov 21 11:11 04_grep.ipynb\\n\",\n",
      "01_ls.ipynb:      \"-rw-r--r--  1 akirakawai  staff   2.6K Nov 21 11:11 04_grep.ipynb\\n\",\n",
      "01_ls.ipynb:      \"-rw-r--r--  1 akirakawai  staff  2673 Nov 21 11:11 04_grep.ipynb\\n\",\n",
      "04_grep.ipynb:    \"## grepコマンド\\n\",\n",
      "04_grep.ipynb:    \"`grep *PATTERN* *FILENAME*`：*FILENAME*から*PATTERN*を検索する\"\n",
      "04_grep.ipynb:    \"!grep linux README.md\"\n",
      "04_grep.ipynb:      \"01_ls.ipynb:      \\\"01_ls.ipynb               04_grep.ipynb\\\\n\\\"\\n\",\n",
      "04_grep.ipynb:      \"01_ls.ipynb:      \\\"\\\\u001b[34m.\\\\u001b[m\\\\u001b[m                         \\\\u001b[34m.ipynb_checkpoints\\\\u001b[m\\\\u001b[m        04_grep.ipynb\\\\n\\\",\\n\",\n",
      "04_grep.ipynb:      \"01_ls.ipynb:      \\\"-rw-r--r--  1 akirakawai  staff  2673 Nov 21 11:11 04_grep.ipynb\\\\n\\\",\\n\",\n",
      "04_grep.ipynb:      \"01_ls.ipynb:      \\\"-rw-r--r--  1 akirakawai  staff   2.6K Nov 21 11:11 04_grep.ipynb\\\\n\\\",\\n\",\n",
      "04_grep.ipynb:      \"01_ls.ipynb:      \\\"-rw-r--r--  1 akirakawai  staff  2673 Nov 21 11:11 04_grep.ipynb\\\\n\\\",\\n\",\n",
      "04_grep.ipynb:      \"04_grep.ipynb:    \\\"## grepコマンド\\\\n\\\",\\n\",\n",
      "04_grep.ipynb:      \"04_grep.ipynb:    \\\"`grep *PATTERN* *FILENAME*`：*FILENAME*から*PATTERN*を検索する\\\"\\n\",\n",
      "04_grep.ipynb:      \"04_grep.ipynb:    \\\"!grep linux README.md\\\"\\n\",\n",
      "04_grep.ipynb:      \"04_grep.ipynb:      \\\"grep: grep: No such file or directory\\\\n\\\"\\n\",\n",
      "04_grep.ipynb:      \"04_grep.ipynb:    \\\"!grep grep *\\\"\\n\",\n",
      "04_grep.ipynb:      \"04_grep.ipynb:    \\\"`grep -l *PATTERN* *FILENAME*`：*FILENAME*から*PATTERN*を検索する, <span style='background:blue'>検索結果にファイル名のみ表示する</span>\\\"\\n\",\n",
      "04_grep.ipynb:      \"04_grep.ipynb:    \\\"!grep -l linux README.md\\\"\\n\",\n",
      "04_grep.ipynb:      \"04_grep.ipynb:    \\\"`grep -c *PATTERN* *FILENAME*`：*FILENAME*から*PATTERN*を検索する, <span style='background:blue'>検索結果に一致した箇所から前後に指定した行数表示する</span>\\\"\\n\",\n",
      "04_grep.ipynb:      \"04_grep.ipynb:    \\\"!grep -c linux README.md\\\"\\n\",\n",
      "04_grep.ipynb:      \"04_grep.ipynb:    \\\"`grep -e *PATTERN* *FILENAME*`：*FILENAME*から*PATTERN*を検索する, <span style='background:blue'>一致処理に指定した正規表現を使う</span>\\\"\\n\",\n",
      "04_grep.ipynb:      \"04_grep.ipynb:    \\\"!grep -e linux README.md\\\"\\n\"\n",
      "04_grep.ipynb:    \"!grep grep *\"\n",
      "04_grep.ipynb:    \"`grep -l *PATTERN* *FILENAME*`：*FILENAME*から*PATTERN*を検索する, <span style='background:blue'>検索結果にファイル名のみ表示する</span>\"\n",
      "04_grep.ipynb:    \"!grep -l linux README.md\"\n",
      "04_grep.ipynb:    \"`grep -c *PATTERN* *FILENAME*`：*FILENAME*から*PATTERN*を検索する, <span style='background:blue'>検索結果に一致した箇所から前後に指定した行数表示する</span>\"\n",
      "04_grep.ipynb:    \"!grep -c linux README.md\"\n",
      "04_grep.ipynb:    \"`grep -e *PATTERN* *FILENAME*`：*FILENAME*から*PATTERN*を検索する, <span style='background:blue'>一致処理に指定した正規表現を使う</span>\"\n",
      "04_grep.ipynb:    \"!grep -e linux README.md\"\n",
      "04_grep.ipynb:    \"`grep -v *PATTERN* *FILENAME*`：*FILENAME*から*PATTERN*を検索する, <span style='background:blue'>一致しないものを検索する</span>\"\n",
      "04_grep.ipynb:    \"!grep -v linux README.md\"\n"
     ]
    }
   ],
   "source": [
    "!grep grep *"
   ]
  },
  {
   "cell_type": "markdown",
   "metadata": {},
   "source": [
    "---\n",
    "`grep -l *PATTERN* *FILENAME*`：*FILENAME*から*PATTERN*を検索する, <span style='background:blue'>検索結果にファイル名のみ表示する</span>"
   ]
  },
  {
   "cell_type": "code",
   "execution_count": 41,
   "metadata": {},
   "outputs": [
    {
     "name": "stdout",
     "output_type": "stream",
     "text": [
      "README.md\n"
     ]
    }
   ],
   "source": [
    "!grep -l linux README.md"
   ]
  },
  {
   "cell_type": "markdown",
   "metadata": {},
   "source": [
    "`grep -c *PATTERN* *FILENAME*`：*FILENAME*から*PATTERN*を検索する, <span style='background:blue'>検索結果に一致した箇所から前後に指定した行数表示する</span>"
   ]
  },
  {
   "cell_type": "code",
   "execution_count": 42,
   "metadata": {},
   "outputs": [],
   "source": [
    "!grep -c linux README.md"
   ]
  },
  {
   "cell_type": "markdown",
   "metadata": {},
   "source": [
    "`grep -c *PATTERN* *FILENAME*`：*FILENAME*から*PATTERN*を検索する, <span style='background:blue'>検索結果に行番号を表示する</span>"
   ]
  },
  {
   "cell_type": "code",
   "execution_count": 46,
   "metadata": {},
   "outputs": [
    {
     "name": "stdout",
     "output_type": "stream",
     "text": [
      "1:# linux-100-commands\n",
      "3:linux コマンド 100 本ノック!!\n",
      "20:  https://www.dummies.com/computers/operating-systems/linux/linux-for-dummies-cheat-sheet/\n"
     ]
    }
   ],
   "source": [
    "!grep -n linux README.md"
   ]
  },
  {
   "cell_type": "code",
   "execution_count": 42,
   "metadata": {},
   "outputs": [
    {
     "name": "stdout",
     "output_type": "stream",
     "text": [
      "3\n"
     ]
    }
   ],
   "source": []
  },
  {
   "cell_type": "markdown",
   "metadata": {},
   "source": [
    "`grep -e *PATTERN* *FILENAME*`：*FILENAME*から*PATTERN*を検索する, <span style='background:blue'>一致処理に指定した正規表現を使う</span>"
   ]
  },
  {
   "cell_type": "code",
   "execution_count": 43,
   "metadata": {},
   "outputs": [
    {
     "name": "stdout",
     "output_type": "stream",
     "text": [
      "# linux-100-commands\n",
      "linux コマンド 100 本ノック!!\n",
      "  https://www.dummies.com/computers/operating-systems/linux/linux-for-dummies-cheat-sheet/\n"
     ]
    }
   ],
   "source": [
    "!grep -e linux README.md"
   ]
  },
  {
   "cell_type": "markdown",
   "metadata": {},
   "source": [
    "`grep -v *PATTERN* *FILENAME*`：*FILENAME*から*PATTERN*を検索する, <span style='background:blue'>一致しないものを検索する</span>"
   ]
  },
  {
   "cell_type": "code",
   "execution_count": 44,
   "metadata": {},
   "outputs": [
    {
     "name": "stdout",
     "output_type": "stream",
     "text": [
      "\n",
      "\n",
      "## ルール\n",
      "\n",
      "- 基本コマンドも１から勉強し直す（option など）\n",
      "- .ipynb 形式が後で見返してみてわかりやすい\n",
      "\n",
      "## 100 のしたいこと\n",
      "\n",
      "- 順次追加予定\n",
      "\n",
      "## 参考\n",
      "\n",
      "- Linux command line for you and me Documentation\n",
      "  https://buildmedia.readthedocs.org/media/pdf/lym/latest/lym.pdf\n",
      "\n",
      "- Linux For Dummies Cheat Sheet\n",
      "\n",
      "- Shell Scripting Tutorial\n",
      "  https://www.shellscript.sh/\n",
      "\n",
      "- 初心者向けシェルスクリプトの基本コマンドの紹介\n",
      "  https://qiita.com/zayarwinttun/items/0dae4cb66d8f4bd2a337\n"
     ]
    }
   ],
   "source": [
    "!grep -v linux README.md"
   ]
  },
  {
   "cell_type": "code",
   "execution_count": null,
   "metadata": {},
   "outputs": [],
   "source": []
  },
  {
   "cell_type": "markdown",
   "metadata": {},
   "source": [
    "`grep -r *PATTERN* *FILENAME*`：*FILENAME*から*PATTERN*を検索する, <span style='background:blue'>ディレクトリ内も検索対象とする</span>"
   ]
  },
  {
   "cell_type": "code",
   "execution_count": 50,
   "metadata": {},
   "outputs": [
    {
     "name": "stdout",
     "output_type": "stream",
     "text": [
      "04_grep.ipynb:      \"# linux-100-commands\\n\",\n",
      "04_grep.ipynb:      \"linux コマンド 100 本ノック!!\\n\",\n",
      "04_grep.ipynb:      \"  https://www.dummies.com/computers/operating-systems/linux/linux-for-dummies-cheat-sheet/\\n\"\n",
      "04_grep.ipynb:    \"!grep linux README.md\"\n",
      "04_grep.ipynb:      \"04_grep.ipynb:    \\\"!grep linux README.md\\\"\\n\",\n",
      "04_grep.ipynb:      \"04_grep.ipynb:      \\\"04_grep.ipynb:    \\\\\\\"!grep linux README.md\\\\\\\"\\\\n\\\",\\n\",\n",
      "04_grep.ipynb:      \"04_grep.ipynb:      \\\"04_grep.ipynb:    \\\\\\\"!grep -l linux README.md\\\\\\\"\\\\n\\\",\\n\",\n",
      "04_grep.ipynb:      \"04_grep.ipynb:      \\\"04_grep.ipynb:    \\\\\\\"!grep -c linux README.md\\\\\\\"\\\\n\\\",\\n\",\n",
      "04_grep.ipynb:      \"04_grep.ipynb:      \\\"04_grep.ipynb:    \\\\\\\"!grep -e linux README.md\\\\\\\"\\\\n\\\"\\n\",\n",
      "04_grep.ipynb:      \"04_grep.ipynb:    \\\"!grep -l linux README.md\\\"\\n\",\n",
      "04_grep.ipynb:      \"04_grep.ipynb:    \\\"!grep -c linux README.md\\\"\\n\",\n",
      "04_grep.ipynb:      \"04_grep.ipynb:    \\\"!grep -e linux README.md\\\"\\n\",\n",
      "04_grep.ipynb:      \"04_grep.ipynb:    \\\"!grep -v linux README.md\\\"\\n\"\n",
      "04_grep.ipynb:    \"!grep -l linux README.md\"\n",
      "04_grep.ipynb:    \"!grep -c linux README.md\"\n",
      "04_grep.ipynb:      \"1:# linux-100-commands\\n\",\n",
      "04_grep.ipynb:      \"3:linux コマンド 100 本ノック!!\\n\",\n",
      "04_grep.ipynb:      \"20:  https://www.dummies.com/computers/operating-systems/linux/linux-for-dummies-cheat-sheet/\\n\"\n",
      "04_grep.ipynb:    \"!grep -n linux README.md\"\n",
      "04_grep.ipynb:      \"# linux-100-commands\\n\",\n",
      "04_grep.ipynb:      \"linux コマンド 100 本ノック!!\\n\",\n",
      "04_grep.ipynb:      \"  https://www.dummies.com/computers/operating-systems/linux/linux-for-dummies-cheat-sheet/\\n\"\n",
      "04_grep.ipynb:    \"!grep -e linux README.md\"\n",
      "04_grep.ipynb:    \"!grep -v linux README.md\"\n",
      "04_grep.ipynb:    \"!grep -r linux *\"\n",
      "README.md:# linux-100-commands\n",
      "README.md:linux コマンド 100 本ノック!!\n",
      "README.md:  https://www.dummies.com/computers/operating-systems/linux/linux-for-dummies-cheat-sheet/\n"
     ]
    }
   ],
   "source": [
    "!grep -r linux src*"
   ]
  },
  {
   "cell_type": "code",
   "execution_count": null,
   "metadata": {},
   "outputs": [],
   "source": []
  }
 ],
 "metadata": {
  "kernelspec": {
   "display_name": "Python 3",
   "language": "python",
   "name": "python3"
  },
  "language_info": {
   "codemirror_mode": {
    "name": "ipython",
    "version": 3
   },
   "file_extension": ".py",
   "mimetype": "text/x-python",
   "name": "python",
   "nbconvert_exporter": "python",
   "pygments_lexer": "ipython3",
   "version": "3.7.6"
  }
 },
 "nbformat": 4,
 "nbformat_minor": 4
}
