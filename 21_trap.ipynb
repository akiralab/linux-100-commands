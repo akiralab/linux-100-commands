{
 "cells": [
  {
   "cell_type": "markdown",
   "metadata": {},
   "source": [
    "## trap コマンド\n",
    "- try-catchのような処理ができる"
   ]
  },
  {
   "cell_type": "markdown",
   "metadata": {},
   "source": [
    "```\n",
    "#!/bin/sh\n",
    "set -e\n",
    "trap catch ERR\n",
    "\n",
    "function catch {\n",
    "    echo エラーを検知しました。エラー後の処理を開始します\n",
    "    \n",
    "    echo pkill python実行\n",
    "    pkill python\n",
    "    \n",
    "    echo pkill python後に待機中... 10sec\n",
    "    sleep 10s\n",
    "    echo 再スタートスクリプトの開始\n",
    "    \n",
    "    python -m trainer.py\n",
    "}\n",
    "\n",
    "echo 正常フローを記載\n",
    "\n",
    "    python -m trainer.py\n",
    "\n",
    "exit 0\n",
    "```"
   ]
  },
  {
   "cell_type": "code",
   "execution_count": null,
   "metadata": {},
   "outputs": [],
   "source": []
  }
 ],
 "metadata": {
  "kernelspec": {
   "display_name": "Python 3",
   "language": "python",
   "name": "python3"
  },
  "language_info": {
   "codemirror_mode": {
    "name": "ipython",
    "version": 3
   },
   "file_extension": ".py",
   "mimetype": "text/x-python",
   "name": "python",
   "nbconvert_exporter": "python",
   "pygments_lexer": "ipython3",
   "version": "3.8.5"
  }
 },
 "nbformat": 4,
 "nbformat_minor": 4
}
